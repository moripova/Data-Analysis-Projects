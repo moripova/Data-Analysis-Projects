{
  "nbformat": 4,
  "nbformat_minor": 5,
  "metadata": {
    "kernelspec": {
      "display_name": "Python 3",
      "language": "python",
      "name": "python3"
    },
    "language_info": {
      "codemirror_mode": {
        "name": "ipython",
        "version": 3
      },
      "file_extension": ".py",
      "mimetype": "text/x-python",
      "name": "python",
      "nbconvert_exporter": "python",
      "pygments_lexer": "ipython3",
      "version": "3.8.8"
    },
    "colab": {
      "provenance": [],
      "collapsed_sections": [
        "a6a3d218",
        "6970dd99",
        "9d75cfa2",
        "68f3b2c9",
        "fad2de2f",
        "27906576",
        "e5fdf0c8",
        "56b3dafd",
        "c7ee4907",
        "3f58c9a7",
        "5fed2eac",
        "f5c5258d",
        "359b12f8",
        "d9affc84",
        "353e9d24",
        "d49bfa2d",
        "8d585a90",
        "3acbc947"
      ],
      "include_colab_link": true
    }
  },
  "cells": [
    {
      "cell_type": "markdown",
      "metadata": {
        "id": "view-in-github",
        "colab_type": "text"
      },
      "source": [
        "<a href=\"https://colab.research.google.com/github/moripova/Data-Science-Projects/blob/main/Full_Code_Project_2_MO.ipynb\" target=\"_parent\"><img src=\"https://colab.research.google.com/assets/colab-badge.svg\" alt=\"Open In Colab\"/></a>"
      ]
    },
    {
      "cell_type": "markdown",
      "metadata": {
        "id": "6yDxo9u0d9Na"
      },
      "source": [
        "<h1><center><font size=10>Data Science and Business Analytics</center></font></h1> \n",
        "<h1><center>Project Business Statistics: E-news Express/Full Code</center></h1>\n",
        "<h1><center>Mavluda Oripova </center></h1>\n",
        "\n",
        "---\n",
        "---\n",
        "\n",
        "\n",
        "**Marks: 60**"
      ],
      "id": "6yDxo9u0d9Na"
    },
    {
      "cell_type": "markdown",
      "source": [
        "<center><img src=\"https://www.sciencefriday.com/wp-content/uploads/2016/05/shutterstock_131496704.jpg\" width=\"500\" height=\"300\"></center>\n",
        "\n",
        "<b><h2><center> E-news Express Case Study</center></h2></b>"
      ],
      "metadata": {
        "id": "OsMjU4MC8WKI"
      },
      "id": "OsMjU4MC8WKI"
    },
    {
      "cell_type": "markdown",
      "metadata": {
        "id": "SrLd-ICEmPSD"
      },
      "source": [
        "# **Defining Problem Statement and Objectives**\n",
        "\n",
        "---\n",
        "\n",
        "\n",
        "\n",
        "---\n",
        "\n"
      ],
      "id": "SrLd-ICEmPSD"
    },
    {
      "cell_type": "markdown",
      "metadata": {
        "id": "9Vt1PLLqmXNn"
      },
      "source": [
        "## **Business Context**\n",
        "The advent of e-news, or electronic news, portals has offered us a great opportunity to quickly get updates on the day-to-day events occurring globally. The information on these portals is retrieved electronically from online databases, processed using a variety of software, and then transmitted to the users. There are multiple advantages of transmitting news electronically, like faster access to the content and the ability to utilize different technologies such as audio, graphics, video, and other interactive elements that are either not being used or aren’t common yet in traditional newspapers.\n",
        "\n",
        "E-news Express, an online news portal, aims to expand its business by acquiring new subscribers. With every visitor to the website taking certain actions based on their interest, the company plans to analyze these actions to understand user interests and determine how to drive better engagement. The executives at E-news Express are of the opinion that there has been a decline in new monthly subscribers compared to the past year because the current webpage is not designed well enough in terms of the outline & recommended content to keep customers engaged long enough to make a decision to subscribe.\n",
        "\n",
        "[*Companies often analyze user responses to two variants of a product to decide which of the two variants is more effective. This experimental technique, known as A/B testing, is used to determine whether a new feature attracts users based on a chosen metric.*]\n",
        "\n",
        "## **Objective**\n",
        "The design team of the company has researched and created a new landing page that has a new outline & more relevant content shown compared to the old page. In order to test the effectiveness of the new landing page in gathering new subscribers, the Data Science team conducted an experiment by randomly selecting 100 users and dividing them equally into two groups. The existing landing page was served to the first group (control group) and the new landing page to the second group (treatment group).\n",
        "\n",
        "Data regarding the interaction of users in both groups with the two versions of the landing page was collected. Being a data scientist in E-news Express, you have been asked to explore the data and perform a statistical analysis (at a significance level of 5%) to determine the effectiveness of the new landing page in gathering new subscribers for the news portal by answering the following questions:\n",
        "\n",
        "1. Do the users spend more time on the new landing page than on the existing landing page?\n",
        "\n",
        "2. Is the conversion rate (the proportion of users who visit the landing page and get converted) for the new page greater than the conversion rate for the old page?\n",
        "\n",
        "3. Does the converted status depend on the preferred language? [Hint: Create a contingency table using the pandas.crosstab() function]\n",
        "\n",
        "4. Is the time spent on the new page the same for the different language users?\n",
        "\n",
        "## **Data Dictionary**\n",
        "The data contains information regarding the interaction of users in both groups with the two versions of the landing page.\n",
        "\n",
        "**user_id** - Unique user ID of the person visiting the website\n",
        "\n",
        "**group** - Whether the user belongs to the first group (control) or the second group (treatment)\n",
        "\n",
        "**landing_page** - Whether the landing page is new or old\n",
        "\n",
        "**time_spent_on_the_page** - Time (in minutes) spent by the user on the landing page\n",
        "\n",
        "**converted** - Whether the user gets converted to a subscriber of the news portal or not\n",
        "\n",
        "**language_preferred** - Language chosen by the user to view the landing page"
      ],
      "id": "9Vt1PLLqmXNn"
    },
    {
      "cell_type": "markdown",
      "metadata": {
        "id": "a6a3d218"
      },
      "source": [
        "# **Importing all the necessary libraries**\n",
        "\n",
        "\n",
        "\n",
        "---\n",
        "\n",
        "\n",
        "\n",
        "---\n",
        "\n"
      ],
      "id": "a6a3d218"
    },
    {
      "cell_type": "code",
      "metadata": {
        "id": "658c5dec"
      },
      "source": [
        "# Libraries to help with reading and manipulating data\n",
        "import numpy as np\n",
        "import pandas as pd\n",
        "\n",
        "# Libraries to help with data visualization\n",
        "import matplotlib.pyplot as plt\n",
        "import seaborn as sns\n",
        "%matplotlib inline \n",
        "\n",
        "# Library to help with statistical analysis\n",
        "import scipy.stats as stats \n"
      ],
      "id": "658c5dec",
      "execution_count": null,
      "outputs": []
    },
    {
      "cell_type": "code",
      "source": [
        "#Since we are using Google Colab, we will be connecting our notebook to the google drive where our data sets are located:\n",
        "from google.colab import drive\n",
        "drive.mount('/content/drive')"
      ],
      "metadata": {
        "colab": {
          "base_uri": "https://localhost:8080/"
        },
        "id": "RJ_R2_X62dRr",
        "outputId": "549cf178-e3e2-4f4e-a258-14553b6c95d5"
      },
      "id": "RJ_R2_X62dRr",
      "execution_count": null,
      "outputs": [
        {
          "output_type": "stream",
          "name": "stdout",
          "text": [
            "Drive already mounted at /content/drive; to attempt to forcibly remount, call drive.mount(\"/content/drive\", force_remount=True).\n"
          ]
        }
      ]
    },
    {
      "cell_type": "code",
      "source": [
        "#We will load the data set to the notebook: \n",
        "df=pd.read_csv('/content/drive/MyDrive/PYTHON/Statistics/Project 2/abtest.csv')\n"
      ],
      "metadata": {
        "id": "Z1pTC5s82toj"
      },
      "id": "Z1pTC5s82toj",
      "execution_count": null,
      "outputs": []
    },
    {
      "cell_type": "markdown",
      "metadata": {
        "id": "6970dd99"
      },
      "source": [
        "## **Reading the Data into a DataFrame**\n",
        "\n",
        "\n",
        "---\n",
        "\n",
        "\n",
        "\n",
        "---\n",
        "\n"
      ],
      "id": "6970dd99"
    },
    {
      "cell_type": "code",
      "metadata": {
        "id": "d3b95640",
        "colab": {
          "base_uri": "https://localhost:8080/"
        },
        "outputId": "04be43ce-01ea-4a04-ce1a-fbf47f952207"
      },
      "source": [
        "# We can run the data to preview the first 5 rows:\n",
        "df.head(5)"
      ],
      "id": "d3b95640",
      "execution_count": null,
      "outputs": [
        {
          "output_type": "execute_result",
          "data": {
            "text/plain": [
              "   user_id      group landing_page  time_spent_on_the_page converted  \\\n",
              "0   546592    control          old                    3.48        no   \n",
              "1   546468  treatment          new                    7.13       yes   \n",
              "2   546462  treatment          new                    4.40        no   \n",
              "3   546567    control          old                    3.02        no   \n",
              "4   546459  treatment          new                    4.75       yes   \n",
              "\n",
              "  language_preferred  \n",
              "0            Spanish  \n",
              "1            English  \n",
              "2            Spanish  \n",
              "3             French  \n",
              "4            Spanish  "
            ],
            "text/html": [
              "\n",
              "  <div id=\"df-8d6b7bcf-ffcc-41c5-ab33-a840173af0be\">\n",
              "    <div class=\"colab-df-container\">\n",
              "      <div>\n",
              "<style scoped>\n",
              "    .dataframe tbody tr th:only-of-type {\n",
              "        vertical-align: middle;\n",
              "    }\n",
              "\n",
              "    .dataframe tbody tr th {\n",
              "        vertical-align: top;\n",
              "    }\n",
              "\n",
              "    .dataframe thead th {\n",
              "        text-align: right;\n",
              "    }\n",
              "</style>\n",
              "<table border=\"1\" class=\"dataframe\">\n",
              "  <thead>\n",
              "    <tr style=\"text-align: right;\">\n",
              "      <th></th>\n",
              "      <th>user_id</th>\n",
              "      <th>group</th>\n",
              "      <th>landing_page</th>\n",
              "      <th>time_spent_on_the_page</th>\n",
              "      <th>converted</th>\n",
              "      <th>language_preferred</th>\n",
              "    </tr>\n",
              "  </thead>\n",
              "  <tbody>\n",
              "    <tr>\n",
              "      <th>0</th>\n",
              "      <td>546592</td>\n",
              "      <td>control</td>\n",
              "      <td>old</td>\n",
              "      <td>3.48</td>\n",
              "      <td>no</td>\n",
              "      <td>Spanish</td>\n",
              "    </tr>\n",
              "    <tr>\n",
              "      <th>1</th>\n",
              "      <td>546468</td>\n",
              "      <td>treatment</td>\n",
              "      <td>new</td>\n",
              "      <td>7.13</td>\n",
              "      <td>yes</td>\n",
              "      <td>English</td>\n",
              "    </tr>\n",
              "    <tr>\n",
              "      <th>2</th>\n",
              "      <td>546462</td>\n",
              "      <td>treatment</td>\n",
              "      <td>new</td>\n",
              "      <td>4.40</td>\n",
              "      <td>no</td>\n",
              "      <td>Spanish</td>\n",
              "    </tr>\n",
              "    <tr>\n",
              "      <th>3</th>\n",
              "      <td>546567</td>\n",
              "      <td>control</td>\n",
              "      <td>old</td>\n",
              "      <td>3.02</td>\n",
              "      <td>no</td>\n",
              "      <td>French</td>\n",
              "    </tr>\n",
              "    <tr>\n",
              "      <th>4</th>\n",
              "      <td>546459</td>\n",
              "      <td>treatment</td>\n",
              "      <td>new</td>\n",
              "      <td>4.75</td>\n",
              "      <td>yes</td>\n",
              "      <td>Spanish</td>\n",
              "    </tr>\n",
              "  </tbody>\n",
              "</table>\n",
              "</div>\n",
              "      <button class=\"colab-df-convert\" onclick=\"convertToInteractive('df-8d6b7bcf-ffcc-41c5-ab33-a840173af0be')\"\n",
              "              title=\"Convert this dataframe to an interactive table.\"\n",
              "              style=\"display:none;\">\n",
              "        \n",
              "  <svg xmlns=\"http://www.w3.org/2000/svg\" height=\"24px\"viewBox=\"0 0 24 24\"\n",
              "       width=\"24px\">\n",
              "    <path d=\"M0 0h24v24H0V0z\" fill=\"none\"/>\n",
              "    <path d=\"M18.56 5.44l.94 2.06.94-2.06 2.06-.94-2.06-.94-.94-2.06-.94 2.06-2.06.94zm-11 1L8.5 8.5l.94-2.06 2.06-.94-2.06-.94L8.5 2.5l-.94 2.06-2.06.94zm10 10l.94 2.06.94-2.06 2.06-.94-2.06-.94-.94-2.06-.94 2.06-2.06.94z\"/><path d=\"M17.41 7.96l-1.37-1.37c-.4-.4-.92-.59-1.43-.59-.52 0-1.04.2-1.43.59L10.3 9.45l-7.72 7.72c-.78.78-.78 2.05 0 2.83L4 21.41c.39.39.9.59 1.41.59.51 0 1.02-.2 1.41-.59l7.78-7.78 2.81-2.81c.8-.78.8-2.07 0-2.86zM5.41 20L4 18.59l7.72-7.72 1.47 1.35L5.41 20z\"/>\n",
              "  </svg>\n",
              "      </button>\n",
              "      \n",
              "  <style>\n",
              "    .colab-df-container {\n",
              "      display:flex;\n",
              "      flex-wrap:wrap;\n",
              "      gap: 12px;\n",
              "    }\n",
              "\n",
              "    .colab-df-convert {\n",
              "      background-color: #E8F0FE;\n",
              "      border: none;\n",
              "      border-radius: 50%;\n",
              "      cursor: pointer;\n",
              "      display: none;\n",
              "      fill: #1967D2;\n",
              "      height: 32px;\n",
              "      padding: 0 0 0 0;\n",
              "      width: 32px;\n",
              "    }\n",
              "\n",
              "    .colab-df-convert:hover {\n",
              "      background-color: #E2EBFA;\n",
              "      box-shadow: 0px 1px 2px rgba(60, 64, 67, 0.3), 0px 1px 3px 1px rgba(60, 64, 67, 0.15);\n",
              "      fill: #174EA6;\n",
              "    }\n",
              "\n",
              "    [theme=dark] .colab-df-convert {\n",
              "      background-color: #3B4455;\n",
              "      fill: #D2E3FC;\n",
              "    }\n",
              "\n",
              "    [theme=dark] .colab-df-convert:hover {\n",
              "      background-color: #434B5C;\n",
              "      box-shadow: 0px 1px 3px 1px rgba(0, 0, 0, 0.15);\n",
              "      filter: drop-shadow(0px 1px 2px rgba(0, 0, 0, 0.3));\n",
              "      fill: #FFFFFF;\n",
              "    }\n",
              "  </style>\n",
              "\n",
              "      <script>\n",
              "        const buttonEl =\n",
              "          document.querySelector('#df-8d6b7bcf-ffcc-41c5-ab33-a840173af0be button.colab-df-convert');\n",
              "        buttonEl.style.display =\n",
              "          google.colab.kernel.accessAllowed ? 'block' : 'none';\n",
              "\n",
              "        async function convertToInteractive(key) {\n",
              "          const element = document.querySelector('#df-8d6b7bcf-ffcc-41c5-ab33-a840173af0be');\n",
              "          const dataTable =\n",
              "            await google.colab.kernel.invokeFunction('convertToInteractive',\n",
              "                                                     [key], {});\n",
              "          if (!dataTable) return;\n",
              "\n",
              "          const docLinkHtml = 'Like what you see? Visit the ' +\n",
              "            '<a target=\"_blank\" href=https://colab.research.google.com/notebooks/data_table.ipynb>data table notebook</a>'\n",
              "            + ' to learn more about interactive tables.';\n",
              "          element.innerHTML = '';\n",
              "          dataTable['output_type'] = 'display_data';\n",
              "          await google.colab.output.renderOutput(dataTable, element);\n",
              "          const docLink = document.createElement('div');\n",
              "          docLink.innerHTML = docLinkHtml;\n",
              "          element.appendChild(docLink);\n",
              "        }\n",
              "      </script>\n",
              "    </div>\n",
              "  </div>\n",
              "  "
            ]
          },
          "metadata": {},
          "execution_count": 79
        }
      ]
    },
    {
      "cell_type": "markdown",
      "source": [
        "**Observations:**\n",
        "\n",
        "We can confirm that the dataset has 6 columns as mentioned in the Data Dictionary. "
      ],
      "metadata": {
        "id": "Mufm-TJ96oHZ"
      },
      "id": "Mufm-TJ96oHZ"
    },
    {
      "cell_type": "code",
      "source": [
        "# It will help to copy the data to another variable so we could avoid the changes to the original data:\n",
        "data_copy=df.copy()"
      ],
      "metadata": {
        "id": "7XFWCmPr3_Xp"
      },
      "id": "7XFWCmPr3_Xp",
      "execution_count": null,
      "outputs": []
    },
    {
      "cell_type": "markdown",
      "metadata": {
        "id": "9d75cfa2"
      },
      "source": [
        "# **Exploring the dataset and extracting insights using Exploratory Data Analysis**\n",
        "\n",
        "\n",
        "---\n",
        "\n",
        "\n",
        "\n",
        "---\n",
        "\n"
      ],
      "id": "9d75cfa2"
    },
    {
      "cell_type": "markdown",
      "metadata": {
        "id": "27201534"
      },
      "source": [
        "- Data Overview\n",
        "  - Viewing the first and last few rows of the dataset\n",
        "  - Checking the shape of the dataset\n",
        "  - Getting the statistical summary for the variables\n",
        "- Check for missing values\n",
        "- Check for duplicates"
      ],
      "id": "27201534"
    },
    {
      "cell_type": "markdown",
      "source": [
        "### **Viewing the first few rows of the dataset**\n",
        "\n",
        "\n"
      ],
      "metadata": {
        "id": "rMhG7A9x7UQT"
      },
      "id": "rMhG7A9x7UQT"
    },
    {
      "cell_type": "code",
      "metadata": {
        "id": "e1ad11d4",
        "colab": {
          "base_uri": "https://localhost:8080/",
          "height": 363
        },
        "outputId": "d717f814-4aab-4f41-84ff-fa66930107f5"
      },
      "source": [
        "# We can run the data to preview the first 10 rows:\n",
        "df.head(10)"
      ],
      "id": "e1ad11d4",
      "execution_count": null,
      "outputs": [
        {
          "output_type": "execute_result",
          "data": {
            "text/plain": [
              "   user_id      group landing_page  time_spent_on_the_page converted  \\\n",
              "0   546592    control          old                    3.48        no   \n",
              "1   546468  treatment          new                    7.13       yes   \n",
              "2   546462  treatment          new                    4.40        no   \n",
              "3   546567    control          old                    3.02        no   \n",
              "4   546459  treatment          new                    4.75       yes   \n",
              "5   546558    control          old                    5.28       yes   \n",
              "6   546448  treatment          new                    5.25       yes   \n",
              "7   546581    control          old                    6.53       yes   \n",
              "8   546461  treatment          new                   10.71       yes   \n",
              "9   546548    control          old                    2.08        no   \n",
              "\n",
              "  language_preferred  \n",
              "0            Spanish  \n",
              "1            English  \n",
              "2            Spanish  \n",
              "3             French  \n",
              "4            Spanish  \n",
              "5            English  \n",
              "6             French  \n",
              "7            Spanish  \n",
              "8             French  \n",
              "9            English  "
            ],
            "text/html": [
              "\n",
              "  <div id=\"df-c2fd0511-9076-477a-abed-51f235f41a1a\">\n",
              "    <div class=\"colab-df-container\">\n",
              "      <div>\n",
              "<style scoped>\n",
              "    .dataframe tbody tr th:only-of-type {\n",
              "        vertical-align: middle;\n",
              "    }\n",
              "\n",
              "    .dataframe tbody tr th {\n",
              "        vertical-align: top;\n",
              "    }\n",
              "\n",
              "    .dataframe thead th {\n",
              "        text-align: right;\n",
              "    }\n",
              "</style>\n",
              "<table border=\"1\" class=\"dataframe\">\n",
              "  <thead>\n",
              "    <tr style=\"text-align: right;\">\n",
              "      <th></th>\n",
              "      <th>user_id</th>\n",
              "      <th>group</th>\n",
              "      <th>landing_page</th>\n",
              "      <th>time_spent_on_the_page</th>\n",
              "      <th>converted</th>\n",
              "      <th>language_preferred</th>\n",
              "    </tr>\n",
              "  </thead>\n",
              "  <tbody>\n",
              "    <tr>\n",
              "      <th>0</th>\n",
              "      <td>546592</td>\n",
              "      <td>control</td>\n",
              "      <td>old</td>\n",
              "      <td>3.48</td>\n",
              "      <td>no</td>\n",
              "      <td>Spanish</td>\n",
              "    </tr>\n",
              "    <tr>\n",
              "      <th>1</th>\n",
              "      <td>546468</td>\n",
              "      <td>treatment</td>\n",
              "      <td>new</td>\n",
              "      <td>7.13</td>\n",
              "      <td>yes</td>\n",
              "      <td>English</td>\n",
              "    </tr>\n",
              "    <tr>\n",
              "      <th>2</th>\n",
              "      <td>546462</td>\n",
              "      <td>treatment</td>\n",
              "      <td>new</td>\n",
              "      <td>4.40</td>\n",
              "      <td>no</td>\n",
              "      <td>Spanish</td>\n",
              "    </tr>\n",
              "    <tr>\n",
              "      <th>3</th>\n",
              "      <td>546567</td>\n",
              "      <td>control</td>\n",
              "      <td>old</td>\n",
              "      <td>3.02</td>\n",
              "      <td>no</td>\n",
              "      <td>French</td>\n",
              "    </tr>\n",
              "    <tr>\n",
              "      <th>4</th>\n",
              "      <td>546459</td>\n",
              "      <td>treatment</td>\n",
              "      <td>new</td>\n",
              "      <td>4.75</td>\n",
              "      <td>yes</td>\n",
              "      <td>Spanish</td>\n",
              "    </tr>\n",
              "    <tr>\n",
              "      <th>5</th>\n",
              "      <td>546558</td>\n",
              "      <td>control</td>\n",
              "      <td>old</td>\n",
              "      <td>5.28</td>\n",
              "      <td>yes</td>\n",
              "      <td>English</td>\n",
              "    </tr>\n",
              "    <tr>\n",
              "      <th>6</th>\n",
              "      <td>546448</td>\n",
              "      <td>treatment</td>\n",
              "      <td>new</td>\n",
              "      <td>5.25</td>\n",
              "      <td>yes</td>\n",
              "      <td>French</td>\n",
              "    </tr>\n",
              "    <tr>\n",
              "      <th>7</th>\n",
              "      <td>546581</td>\n",
              "      <td>control</td>\n",
              "      <td>old</td>\n",
              "      <td>6.53</td>\n",
              "      <td>yes</td>\n",
              "      <td>Spanish</td>\n",
              "    </tr>\n",
              "    <tr>\n",
              "      <th>8</th>\n",
              "      <td>546461</td>\n",
              "      <td>treatment</td>\n",
              "      <td>new</td>\n",
              "      <td>10.71</td>\n",
              "      <td>yes</td>\n",
              "      <td>French</td>\n",
              "    </tr>\n",
              "    <tr>\n",
              "      <th>9</th>\n",
              "      <td>546548</td>\n",
              "      <td>control</td>\n",
              "      <td>old</td>\n",
              "      <td>2.08</td>\n",
              "      <td>no</td>\n",
              "      <td>English</td>\n",
              "    </tr>\n",
              "  </tbody>\n",
              "</table>\n",
              "</div>\n",
              "      <button class=\"colab-df-convert\" onclick=\"convertToInteractive('df-c2fd0511-9076-477a-abed-51f235f41a1a')\"\n",
              "              title=\"Convert this dataframe to an interactive table.\"\n",
              "              style=\"display:none;\">\n",
              "        \n",
              "  <svg xmlns=\"http://www.w3.org/2000/svg\" height=\"24px\"viewBox=\"0 0 24 24\"\n",
              "       width=\"24px\">\n",
              "    <path d=\"M0 0h24v24H0V0z\" fill=\"none\"/>\n",
              "    <path d=\"M18.56 5.44l.94 2.06.94-2.06 2.06-.94-2.06-.94-.94-2.06-.94 2.06-2.06.94zm-11 1L8.5 8.5l.94-2.06 2.06-.94-2.06-.94L8.5 2.5l-.94 2.06-2.06.94zm10 10l.94 2.06.94-2.06 2.06-.94-2.06-.94-.94-2.06-.94 2.06-2.06.94z\"/><path d=\"M17.41 7.96l-1.37-1.37c-.4-.4-.92-.59-1.43-.59-.52 0-1.04.2-1.43.59L10.3 9.45l-7.72 7.72c-.78.78-.78 2.05 0 2.83L4 21.41c.39.39.9.59 1.41.59.51 0 1.02-.2 1.41-.59l7.78-7.78 2.81-2.81c.8-.78.8-2.07 0-2.86zM5.41 20L4 18.59l7.72-7.72 1.47 1.35L5.41 20z\"/>\n",
              "  </svg>\n",
              "      </button>\n",
              "      \n",
              "  <style>\n",
              "    .colab-df-container {\n",
              "      display:flex;\n",
              "      flex-wrap:wrap;\n",
              "      gap: 12px;\n",
              "    }\n",
              "\n",
              "    .colab-df-convert {\n",
              "      background-color: #E8F0FE;\n",
              "      border: none;\n",
              "      border-radius: 50%;\n",
              "      cursor: pointer;\n",
              "      display: none;\n",
              "      fill: #1967D2;\n",
              "      height: 32px;\n",
              "      padding: 0 0 0 0;\n",
              "      width: 32px;\n",
              "    }\n",
              "\n",
              "    .colab-df-convert:hover {\n",
              "      background-color: #E2EBFA;\n",
              "      box-shadow: 0px 1px 2px rgba(60, 64, 67, 0.3), 0px 1px 3px 1px rgba(60, 64, 67, 0.15);\n",
              "      fill: #174EA6;\n",
              "    }\n",
              "\n",
              "    [theme=dark] .colab-df-convert {\n",
              "      background-color: #3B4455;\n",
              "      fill: #D2E3FC;\n",
              "    }\n",
              "\n",
              "    [theme=dark] .colab-df-convert:hover {\n",
              "      background-color: #434B5C;\n",
              "      box-shadow: 0px 1px 3px 1px rgba(0, 0, 0, 0.15);\n",
              "      filter: drop-shadow(0px 1px 2px rgba(0, 0, 0, 0.3));\n",
              "      fill: #FFFFFF;\n",
              "    }\n",
              "  </style>\n",
              "\n",
              "      <script>\n",
              "        const buttonEl =\n",
              "          document.querySelector('#df-c2fd0511-9076-477a-abed-51f235f41a1a button.colab-df-convert');\n",
              "        buttonEl.style.display =\n",
              "          google.colab.kernel.accessAllowed ? 'block' : 'none';\n",
              "\n",
              "        async function convertToInteractive(key) {\n",
              "          const element = document.querySelector('#df-c2fd0511-9076-477a-abed-51f235f41a1a');\n",
              "          const dataTable =\n",
              "            await google.colab.kernel.invokeFunction('convertToInteractive',\n",
              "                                                     [key], {});\n",
              "          if (!dataTable) return;\n",
              "\n",
              "          const docLinkHtml = 'Like what you see? Visit the ' +\n",
              "            '<a target=\"_blank\" href=https://colab.research.google.com/notebooks/data_table.ipynb>data table notebook</a>'\n",
              "            + ' to learn more about interactive tables.';\n",
              "          element.innerHTML = '';\n",
              "          dataTable['output_type'] = 'display_data';\n",
              "          await google.colab.output.renderOutput(dataTable, element);\n",
              "          const docLink = document.createElement('div');\n",
              "          docLink.innerHTML = docLinkHtml;\n",
              "          element.appendChild(docLink);\n",
              "        }\n",
              "      </script>\n",
              "    </div>\n",
              "  </div>\n",
              "  "
            ]
          },
          "metadata": {},
          "execution_count": 81
        }
      ]
    },
    {
      "cell_type": "code",
      "source": [
        "# We can also view the last 10 raws of the dataset:\n",
        "df.tail(10)"
      ],
      "metadata": {
        "colab": {
          "base_uri": "https://localhost:8080/",
          "height": 363
        },
        "id": "zQv4E3DEB3HZ",
        "outputId": "a876c47c-bdfe-49b9-9efd-603a49cd8028"
      },
      "id": "zQv4E3DEB3HZ",
      "execution_count": null,
      "outputs": [
        {
          "output_type": "execute_result",
          "data": {
            "text/plain": [
              "    user_id      group landing_page  time_spent_on_the_page converted  \\\n",
              "90   546477  treatment          new                    5.40        no   \n",
              "91   546451  treatment          new                    8.47       yes   \n",
              "92   546566    control          old                    8.35        no   \n",
              "93   546474  treatment          new                    4.94        no   \n",
              "94   546550    control          old                    3.05        no   \n",
              "95   546446  treatment          new                    5.15        no   \n",
              "96   546544    control          old                    6.52       yes   \n",
              "97   546472  treatment          new                    7.07       yes   \n",
              "98   546481  treatment          new                    6.20       yes   \n",
              "99   546483  treatment          new                    5.86       yes   \n",
              "\n",
              "   language_preferred  \n",
              "90             French  \n",
              "91            English  \n",
              "92             French  \n",
              "93             French  \n",
              "94            English  \n",
              "95            Spanish  \n",
              "96            English  \n",
              "97            Spanish  \n",
              "98            Spanish  \n",
              "99            English  "
            ],
            "text/html": [
              "\n",
              "  <div id=\"df-4a787290-1f27-4837-b967-1013c8080638\">\n",
              "    <div class=\"colab-df-container\">\n",
              "      <div>\n",
              "<style scoped>\n",
              "    .dataframe tbody tr th:only-of-type {\n",
              "        vertical-align: middle;\n",
              "    }\n",
              "\n",
              "    .dataframe tbody tr th {\n",
              "        vertical-align: top;\n",
              "    }\n",
              "\n",
              "    .dataframe thead th {\n",
              "        text-align: right;\n",
              "    }\n",
              "</style>\n",
              "<table border=\"1\" class=\"dataframe\">\n",
              "  <thead>\n",
              "    <tr style=\"text-align: right;\">\n",
              "      <th></th>\n",
              "      <th>user_id</th>\n",
              "      <th>group</th>\n",
              "      <th>landing_page</th>\n",
              "      <th>time_spent_on_the_page</th>\n",
              "      <th>converted</th>\n",
              "      <th>language_preferred</th>\n",
              "    </tr>\n",
              "  </thead>\n",
              "  <tbody>\n",
              "    <tr>\n",
              "      <th>90</th>\n",
              "      <td>546477</td>\n",
              "      <td>treatment</td>\n",
              "      <td>new</td>\n",
              "      <td>5.40</td>\n",
              "      <td>no</td>\n",
              "      <td>French</td>\n",
              "    </tr>\n",
              "    <tr>\n",
              "      <th>91</th>\n",
              "      <td>546451</td>\n",
              "      <td>treatment</td>\n",
              "      <td>new</td>\n",
              "      <td>8.47</td>\n",
              "      <td>yes</td>\n",
              "      <td>English</td>\n",
              "    </tr>\n",
              "    <tr>\n",
              "      <th>92</th>\n",
              "      <td>546566</td>\n",
              "      <td>control</td>\n",
              "      <td>old</td>\n",
              "      <td>8.35</td>\n",
              "      <td>no</td>\n",
              "      <td>French</td>\n",
              "    </tr>\n",
              "    <tr>\n",
              "      <th>93</th>\n",
              "      <td>546474</td>\n",
              "      <td>treatment</td>\n",
              "      <td>new</td>\n",
              "      <td>4.94</td>\n",
              "      <td>no</td>\n",
              "      <td>French</td>\n",
              "    </tr>\n",
              "    <tr>\n",
              "      <th>94</th>\n",
              "      <td>546550</td>\n",
              "      <td>control</td>\n",
              "      <td>old</td>\n",
              "      <td>3.05</td>\n",
              "      <td>no</td>\n",
              "      <td>English</td>\n",
              "    </tr>\n",
              "    <tr>\n",
              "      <th>95</th>\n",
              "      <td>546446</td>\n",
              "      <td>treatment</td>\n",
              "      <td>new</td>\n",
              "      <td>5.15</td>\n",
              "      <td>no</td>\n",
              "      <td>Spanish</td>\n",
              "    </tr>\n",
              "    <tr>\n",
              "      <th>96</th>\n",
              "      <td>546544</td>\n",
              "      <td>control</td>\n",
              "      <td>old</td>\n",
              "      <td>6.52</td>\n",
              "      <td>yes</td>\n",
              "      <td>English</td>\n",
              "    </tr>\n",
              "    <tr>\n",
              "      <th>97</th>\n",
              "      <td>546472</td>\n",
              "      <td>treatment</td>\n",
              "      <td>new</td>\n",
              "      <td>7.07</td>\n",
              "      <td>yes</td>\n",
              "      <td>Spanish</td>\n",
              "    </tr>\n",
              "    <tr>\n",
              "      <th>98</th>\n",
              "      <td>546481</td>\n",
              "      <td>treatment</td>\n",
              "      <td>new</td>\n",
              "      <td>6.20</td>\n",
              "      <td>yes</td>\n",
              "      <td>Spanish</td>\n",
              "    </tr>\n",
              "    <tr>\n",
              "      <th>99</th>\n",
              "      <td>546483</td>\n",
              "      <td>treatment</td>\n",
              "      <td>new</td>\n",
              "      <td>5.86</td>\n",
              "      <td>yes</td>\n",
              "      <td>English</td>\n",
              "    </tr>\n",
              "  </tbody>\n",
              "</table>\n",
              "</div>\n",
              "      <button class=\"colab-df-convert\" onclick=\"convertToInteractive('df-4a787290-1f27-4837-b967-1013c8080638')\"\n",
              "              title=\"Convert this dataframe to an interactive table.\"\n",
              "              style=\"display:none;\">\n",
              "        \n",
              "  <svg xmlns=\"http://www.w3.org/2000/svg\" height=\"24px\"viewBox=\"0 0 24 24\"\n",
              "       width=\"24px\">\n",
              "    <path d=\"M0 0h24v24H0V0z\" fill=\"none\"/>\n",
              "    <path d=\"M18.56 5.44l.94 2.06.94-2.06 2.06-.94-2.06-.94-.94-2.06-.94 2.06-2.06.94zm-11 1L8.5 8.5l.94-2.06 2.06-.94-2.06-.94L8.5 2.5l-.94 2.06-2.06.94zm10 10l.94 2.06.94-2.06 2.06-.94-2.06-.94-.94-2.06-.94 2.06-2.06.94z\"/><path d=\"M17.41 7.96l-1.37-1.37c-.4-.4-.92-.59-1.43-.59-.52 0-1.04.2-1.43.59L10.3 9.45l-7.72 7.72c-.78.78-.78 2.05 0 2.83L4 21.41c.39.39.9.59 1.41.59.51 0 1.02-.2 1.41-.59l7.78-7.78 2.81-2.81c.8-.78.8-2.07 0-2.86zM5.41 20L4 18.59l7.72-7.72 1.47 1.35L5.41 20z\"/>\n",
              "  </svg>\n",
              "      </button>\n",
              "      \n",
              "  <style>\n",
              "    .colab-df-container {\n",
              "      display:flex;\n",
              "      flex-wrap:wrap;\n",
              "      gap: 12px;\n",
              "    }\n",
              "\n",
              "    .colab-df-convert {\n",
              "      background-color: #E8F0FE;\n",
              "      border: none;\n",
              "      border-radius: 50%;\n",
              "      cursor: pointer;\n",
              "      display: none;\n",
              "      fill: #1967D2;\n",
              "      height: 32px;\n",
              "      padding: 0 0 0 0;\n",
              "      width: 32px;\n",
              "    }\n",
              "\n",
              "    .colab-df-convert:hover {\n",
              "      background-color: #E2EBFA;\n",
              "      box-shadow: 0px 1px 2px rgba(60, 64, 67, 0.3), 0px 1px 3px 1px rgba(60, 64, 67, 0.15);\n",
              "      fill: #174EA6;\n",
              "    }\n",
              "\n",
              "    [theme=dark] .colab-df-convert {\n",
              "      background-color: #3B4455;\n",
              "      fill: #D2E3FC;\n",
              "    }\n",
              "\n",
              "    [theme=dark] .colab-df-convert:hover {\n",
              "      background-color: #434B5C;\n",
              "      box-shadow: 0px 1px 3px 1px rgba(0, 0, 0, 0.15);\n",
              "      filter: drop-shadow(0px 1px 2px rgba(0, 0, 0, 0.3));\n",
              "      fill: #FFFFFF;\n",
              "    }\n",
              "  </style>\n",
              "\n",
              "      <script>\n",
              "        const buttonEl =\n",
              "          document.querySelector('#df-4a787290-1f27-4837-b967-1013c8080638 button.colab-df-convert');\n",
              "        buttonEl.style.display =\n",
              "          google.colab.kernel.accessAllowed ? 'block' : 'none';\n",
              "\n",
              "        async function convertToInteractive(key) {\n",
              "          const element = document.querySelector('#df-4a787290-1f27-4837-b967-1013c8080638');\n",
              "          const dataTable =\n",
              "            await google.colab.kernel.invokeFunction('convertToInteractive',\n",
              "                                                     [key], {});\n",
              "          if (!dataTable) return;\n",
              "\n",
              "          const docLinkHtml = 'Like what you see? Visit the ' +\n",
              "            '<a target=\"_blank\" href=https://colab.research.google.com/notebooks/data_table.ipynb>data table notebook</a>'\n",
              "            + ' to learn more about interactive tables.';\n",
              "          element.innerHTML = '';\n",
              "          dataTable['output_type'] = 'display_data';\n",
              "          await google.colab.output.renderOutput(dataTable, element);\n",
              "          const docLink = document.createElement('div');\n",
              "          docLink.innerHTML = docLinkHtml;\n",
              "          element.appendChild(docLink);\n",
              "        }\n",
              "      </script>\n",
              "    </div>\n",
              "  </div>\n",
              "  "
            ]
          },
          "metadata": {},
          "execution_count": 82
        }
      ]
    },
    {
      "cell_type": "markdown",
      "source": [
        "\n",
        "**Observations:** \n",
        "\n",
        "*   The data contains 6 columns with variables presented in the dictionary: user id, group, landing page, time spent on the page, converted, language preferred. The last raw goes to 100 (99 in Python).\n",
        "\n",
        "\n",
        "\n",
        " \n",
        "\n"
      ],
      "metadata": {
        "id": "LrwHxCoj_WSw"
      },
      "id": "LrwHxCoj_WSw"
    },
    {
      "cell_type": "markdown",
      "source": [
        "### **Checking the shape of the data - number of total rows and columns**"
      ],
      "metadata": {
        "id": "5pOlZHRZCPjB"
      },
      "id": "5pOlZHRZCPjB"
    },
    {
      "cell_type": "code",
      "source": [
        "#To check for the number of rows and columns in the dataset, we will need to run the df.shape command:\n",
        "df.shape"
      ],
      "metadata": {
        "colab": {
          "base_uri": "https://localhost:8080/"
        },
        "id": "9VGAEhihCZQx",
        "outputId": "c72e520a-3bc8-4e87-f4a6-7cd2fe730547"
      },
      "id": "9VGAEhihCZQx",
      "execution_count": null,
      "outputs": [
        {
          "output_type": "execute_result",
          "data": {
            "text/plain": [
              "(100, 6)"
            ]
          },
          "metadata": {},
          "execution_count": 83
        }
      ]
    },
    {
      "cell_type": "markdown",
      "source": [
        "**Ovservations:**\n",
        "\n",
        "We see that there are total of 100 rows and 6 columns."
      ],
      "metadata": {
        "id": "_fXUVWeFCk-J"
      },
      "id": "_fXUVWeFCk-J"
    },
    {
      "cell_type": "markdown",
      "source": [
        "### **Checking the data types of the columns**"
      ],
      "metadata": {
        "id": "Tee0n1zACxRQ"
      },
      "id": "Tee0n1zACxRQ"
    },
    {
      "cell_type": "code",
      "source": [
        "# Now we will check of type of data each column consists of. For this we will run the df.info command:\n",
        "df.info()"
      ],
      "metadata": {
        "colab": {
          "base_uri": "https://localhost:8080/"
        },
        "id": "blQ7Z4wBC5Kp",
        "outputId": "e555034b-2c1c-4ae2-f1f8-45c65c17fd2f"
      },
      "id": "blQ7Z4wBC5Kp",
      "execution_count": null,
      "outputs": [
        {
          "output_type": "stream",
          "name": "stdout",
          "text": [
            "<class 'pandas.core.frame.DataFrame'>\n",
            "RangeIndex: 100 entries, 0 to 99\n",
            "Data columns (total 6 columns):\n",
            " #   Column                  Non-Null Count  Dtype  \n",
            "---  ------                  --------------  -----  \n",
            " 0   user_id                 100 non-null    int64  \n",
            " 1   group                   100 non-null    object \n",
            " 2   landing_page            100 non-null    object \n",
            " 3   time_spent_on_the_page  100 non-null    float64\n",
            " 4   converted               100 non-null    object \n",
            " 5   language_preferred      100 non-null    object \n",
            "dtypes: float64(1), int64(1), object(4)\n",
            "memory usage: 4.8+ KB\n"
          ]
        }
      ]
    },
    {
      "cell_type": "markdown",
      "source": [
        "**Observations:**\n",
        "\n",
        "From the df.info command we retrieved the type of the data in each column. The results are: **user_id** is an integer; **group** and **landing_page** are objects; **time_spent_on_the_page** is float; **converted** and **language_preferred columns** are ofjects. There are **2 numeric** and **4 string** values in total. "
      ],
      "metadata": {
        "id": "L0M_G1_lEK8g"
      },
      "id": "L0M_G1_lEK8g"
    },
    {
      "cell_type": "markdown",
      "source": [
        "### **Checking the statistical summary of the numeric values in the dataset.** "
      ],
      "metadata": {
        "id": "Srcy5IffF2nq"
      },
      "id": "Srcy5IffF2nq"
    },
    {
      "cell_type": "code",
      "source": [
        "# To check the statistical summary of the numeric values we will be running df.describe command:\n",
        "df.describe()"
      ],
      "metadata": {
        "colab": {
          "base_uri": "https://localhost:8080/",
          "height": 300
        },
        "id": "5eeP2tAuGpVr",
        "outputId": "daf5f67d-b6a8-4482-f4b2-6ce3199c10d9"
      },
      "id": "5eeP2tAuGpVr",
      "execution_count": null,
      "outputs": [
        {
          "output_type": "execute_result",
          "data": {
            "text/plain": [
              "             user_id  time_spent_on_the_page\n",
              "count     100.000000              100.000000\n",
              "mean   546517.000000                5.377800\n",
              "std        52.295779                2.378166\n",
              "min    546443.000000                0.190000\n",
              "25%    546467.750000                3.880000\n",
              "50%    546492.500000                5.415000\n",
              "75%    546567.250000                7.022500\n",
              "max    546592.000000               10.710000"
            ],
            "text/html": [
              "\n",
              "  <div id=\"df-f44250ff-f966-45b6-b187-29982169c1f7\">\n",
              "    <div class=\"colab-df-container\">\n",
              "      <div>\n",
              "<style scoped>\n",
              "    .dataframe tbody tr th:only-of-type {\n",
              "        vertical-align: middle;\n",
              "    }\n",
              "\n",
              "    .dataframe tbody tr th {\n",
              "        vertical-align: top;\n",
              "    }\n",
              "\n",
              "    .dataframe thead th {\n",
              "        text-align: right;\n",
              "    }\n",
              "</style>\n",
              "<table border=\"1\" class=\"dataframe\">\n",
              "  <thead>\n",
              "    <tr style=\"text-align: right;\">\n",
              "      <th></th>\n",
              "      <th>user_id</th>\n",
              "      <th>time_spent_on_the_page</th>\n",
              "    </tr>\n",
              "  </thead>\n",
              "  <tbody>\n",
              "    <tr>\n",
              "      <th>count</th>\n",
              "      <td>100.000000</td>\n",
              "      <td>100.000000</td>\n",
              "    </tr>\n",
              "    <tr>\n",
              "      <th>mean</th>\n",
              "      <td>546517.000000</td>\n",
              "      <td>5.377800</td>\n",
              "    </tr>\n",
              "    <tr>\n",
              "      <th>std</th>\n",
              "      <td>52.295779</td>\n",
              "      <td>2.378166</td>\n",
              "    </tr>\n",
              "    <tr>\n",
              "      <th>min</th>\n",
              "      <td>546443.000000</td>\n",
              "      <td>0.190000</td>\n",
              "    </tr>\n",
              "    <tr>\n",
              "      <th>25%</th>\n",
              "      <td>546467.750000</td>\n",
              "      <td>3.880000</td>\n",
              "    </tr>\n",
              "    <tr>\n",
              "      <th>50%</th>\n",
              "      <td>546492.500000</td>\n",
              "      <td>5.415000</td>\n",
              "    </tr>\n",
              "    <tr>\n",
              "      <th>75%</th>\n",
              "      <td>546567.250000</td>\n",
              "      <td>7.022500</td>\n",
              "    </tr>\n",
              "    <tr>\n",
              "      <th>max</th>\n",
              "      <td>546592.000000</td>\n",
              "      <td>10.710000</td>\n",
              "    </tr>\n",
              "  </tbody>\n",
              "</table>\n",
              "</div>\n",
              "      <button class=\"colab-df-convert\" onclick=\"convertToInteractive('df-f44250ff-f966-45b6-b187-29982169c1f7')\"\n",
              "              title=\"Convert this dataframe to an interactive table.\"\n",
              "              style=\"display:none;\">\n",
              "        \n",
              "  <svg xmlns=\"http://www.w3.org/2000/svg\" height=\"24px\"viewBox=\"0 0 24 24\"\n",
              "       width=\"24px\">\n",
              "    <path d=\"M0 0h24v24H0V0z\" fill=\"none\"/>\n",
              "    <path d=\"M18.56 5.44l.94 2.06.94-2.06 2.06-.94-2.06-.94-.94-2.06-.94 2.06-2.06.94zm-11 1L8.5 8.5l.94-2.06 2.06-.94-2.06-.94L8.5 2.5l-.94 2.06-2.06.94zm10 10l.94 2.06.94-2.06 2.06-.94-2.06-.94-.94-2.06-.94 2.06-2.06.94z\"/><path d=\"M17.41 7.96l-1.37-1.37c-.4-.4-.92-.59-1.43-.59-.52 0-1.04.2-1.43.59L10.3 9.45l-7.72 7.72c-.78.78-.78 2.05 0 2.83L4 21.41c.39.39.9.59 1.41.59.51 0 1.02-.2 1.41-.59l7.78-7.78 2.81-2.81c.8-.78.8-2.07 0-2.86zM5.41 20L4 18.59l7.72-7.72 1.47 1.35L5.41 20z\"/>\n",
              "  </svg>\n",
              "      </button>\n",
              "      \n",
              "  <style>\n",
              "    .colab-df-container {\n",
              "      display:flex;\n",
              "      flex-wrap:wrap;\n",
              "      gap: 12px;\n",
              "    }\n",
              "\n",
              "    .colab-df-convert {\n",
              "      background-color: #E8F0FE;\n",
              "      border: none;\n",
              "      border-radius: 50%;\n",
              "      cursor: pointer;\n",
              "      display: none;\n",
              "      fill: #1967D2;\n",
              "      height: 32px;\n",
              "      padding: 0 0 0 0;\n",
              "      width: 32px;\n",
              "    }\n",
              "\n",
              "    .colab-df-convert:hover {\n",
              "      background-color: #E2EBFA;\n",
              "      box-shadow: 0px 1px 2px rgba(60, 64, 67, 0.3), 0px 1px 3px 1px rgba(60, 64, 67, 0.15);\n",
              "      fill: #174EA6;\n",
              "    }\n",
              "\n",
              "    [theme=dark] .colab-df-convert {\n",
              "      background-color: #3B4455;\n",
              "      fill: #D2E3FC;\n",
              "    }\n",
              "\n",
              "    [theme=dark] .colab-df-convert:hover {\n",
              "      background-color: #434B5C;\n",
              "      box-shadow: 0px 1px 3px 1px rgba(0, 0, 0, 0.15);\n",
              "      filter: drop-shadow(0px 1px 2px rgba(0, 0, 0, 0.3));\n",
              "      fill: #FFFFFF;\n",
              "    }\n",
              "  </style>\n",
              "\n",
              "      <script>\n",
              "        const buttonEl =\n",
              "          document.querySelector('#df-f44250ff-f966-45b6-b187-29982169c1f7 button.colab-df-convert');\n",
              "        buttonEl.style.display =\n",
              "          google.colab.kernel.accessAllowed ? 'block' : 'none';\n",
              "\n",
              "        async function convertToInteractive(key) {\n",
              "          const element = document.querySelector('#df-f44250ff-f966-45b6-b187-29982169c1f7');\n",
              "          const dataTable =\n",
              "            await google.colab.kernel.invokeFunction('convertToInteractive',\n",
              "                                                     [key], {});\n",
              "          if (!dataTable) return;\n",
              "\n",
              "          const docLinkHtml = 'Like what you see? Visit the ' +\n",
              "            '<a target=\"_blank\" href=https://colab.research.google.com/notebooks/data_table.ipynb>data table notebook</a>'\n",
              "            + ' to learn more about interactive tables.';\n",
              "          element.innerHTML = '';\n",
              "          dataTable['output_type'] = 'display_data';\n",
              "          await google.colab.output.renderOutput(dataTable, element);\n",
              "          const docLink = document.createElement('div');\n",
              "          docLink.innerHTML = docLinkHtml;\n",
              "          element.appendChild(docLink);\n",
              "        }\n",
              "      </script>\n",
              "    </div>\n",
              "  </div>\n",
              "  "
            ]
          },
          "metadata": {},
          "execution_count": 85
        }
      ]
    },
    {
      "cell_type": "markdown",
      "source": [
        "**Observations:**\n",
        "\n",
        "From this output we can say that there are 100 users in the dataset. On the time_spent_on_the_page column we can say that the average time the users spent - **mean** of this column- is 5.3, the **minimum** 0.19, **25%** 3.8, **50%** 5.4,**75%** 7.0, and the **maximum** is 10.7 minutes."
      ],
      "metadata": {
        "id": "4uArCDyO1jNp"
      },
      "id": "4uArCDyO1jNp"
    },
    {
      "cell_type": "code",
      "source": [
        "# we can create a variable that includes only categorical data and run the value count. It will help to separate the columns to better view the data.\n",
        "cat_cols=['brand_name_Karbonn']\n",
        "for column in cat_cols:\n",
        "    print(df[column].value_counts())\n",
        "    print(\"-\" * 50)\n",
        "  "
      ],
      "metadata": {
        "colab": {
          "base_uri": "https://localhost:8080/",
          "height": 242
        },
        "id": "5WahqnKg2gPb",
        "outputId": "1bafbae1-9a2d-4197-af65-15e86ac76706"
      },
      "id": "5WahqnKg2gPb",
      "execution_count": null,
      "outputs": [
        {
          "output_type": "error",
          "ename": "NameError",
          "evalue": "ignored",
          "traceback": [
            "\u001b[0;31m---------------------------------------------------------------------------\u001b[0m",
            "\u001b[0;31mNameError\u001b[0m                                 Traceback (most recent call last)",
            "\u001b[0;32m<ipython-input-1-a62a0fbf7fda>\u001b[0m in \u001b[0;36m<module>\u001b[0;34m\u001b[0m\n\u001b[1;32m      2\u001b[0m \u001b[0mcat_cols\u001b[0m\u001b[0;34m=\u001b[0m\u001b[0;34m[\u001b[0m\u001b[0;34m'brand_name_Karbonn'\u001b[0m\u001b[0;34m]\u001b[0m\u001b[0;34m\u001b[0m\u001b[0;34m\u001b[0m\u001b[0m\n\u001b[1;32m      3\u001b[0m \u001b[0;32mfor\u001b[0m \u001b[0mcolumn\u001b[0m \u001b[0;32min\u001b[0m \u001b[0mcat_cols\u001b[0m\u001b[0;34m:\u001b[0m\u001b[0;34m\u001b[0m\u001b[0;34m\u001b[0m\u001b[0m\n\u001b[0;32m----> 4\u001b[0;31m     \u001b[0mprint\u001b[0m\u001b[0;34m(\u001b[0m\u001b[0mdf\u001b[0m\u001b[0;34m[\u001b[0m\u001b[0mcolumn\u001b[0m\u001b[0;34m]\u001b[0m\u001b[0;34m.\u001b[0m\u001b[0mvalue_counts\u001b[0m\u001b[0;34m(\u001b[0m\u001b[0;34m)\u001b[0m\u001b[0;34m)\u001b[0m\u001b[0;34m\u001b[0m\u001b[0;34m\u001b[0m\u001b[0m\n\u001b[0m\u001b[1;32m      5\u001b[0m     \u001b[0mprint\u001b[0m\u001b[0;34m(\u001b[0m\u001b[0;34m\"-\"\u001b[0m \u001b[0;34m*\u001b[0m \u001b[0;36m50\u001b[0m\u001b[0;34m)\u001b[0m\u001b[0;34m\u001b[0m\u001b[0;34m\u001b[0m\u001b[0m\n\u001b[1;32m      6\u001b[0m \u001b[0;34m\u001b[0m\u001b[0m\n",
            "\u001b[0;31mNameError\u001b[0m: name 'df' is not defined"
          ]
        }
      ]
    },
    {
      "cell_type": "markdown",
      "source": [
        "**Observations:**\n",
        "\n",
        "*From analysis of categorical data we can say that the 100 users were classified into two groups: control (50) and treatment (50). \n",
        "\n",
        "*We can also see that there are two landing pages, new and old (split in two groups of 50 users). \n",
        "\n",
        "*The \"converted\" column has two values (yes and no), with the numbers distributes as 54 (yes) and 46(no). \n",
        "\n",
        "*In the language_preferred column, out of all 100 users, 34 have Spanish, 34 have French, and 32 have English"
      ],
      "metadata": {
        "id": "64hs-iE-3sRZ"
      },
      "id": "64hs-iE-3sRZ"
    },
    {
      "cell_type": "markdown",
      "source": [
        "### **Checking for Missing Values**"
      ],
      "metadata": {
        "id": "p11bp5bw9Icj"
      },
      "id": "p11bp5bw9Icj"
    },
    {
      "cell_type": "code",
      "source": [
        "df.info()# by running this formula we can double check the data types for assurance.\n",
        "df.isnull().sum()# this formula will help us see how many columns have missing data."
      ],
      "metadata": {
        "colab": {
          "base_uri": "https://localhost:8080/"
        },
        "id": "Iz5ERUUe9QYb",
        "outputId": "3ae3a9cf-bcc8-42a9-9a67-9ac095167756"
      },
      "id": "Iz5ERUUe9QYb",
      "execution_count": null,
      "outputs": [
        {
          "output_type": "stream",
          "name": "stdout",
          "text": [
            "<class 'pandas.core.frame.DataFrame'>\n",
            "RangeIndex: 100 entries, 0 to 99\n",
            "Data columns (total 6 columns):\n",
            " #   Column                  Non-Null Count  Dtype  \n",
            "---  ------                  --------------  -----  \n",
            " 0   user_id                 100 non-null    int64  \n",
            " 1   group                   100 non-null    object \n",
            " 2   landing_page            100 non-null    object \n",
            " 3   time_spent_on_the_page  100 non-null    float64\n",
            " 4   converted               100 non-null    object \n",
            " 5   language_preferred      100 non-null    object \n",
            "dtypes: float64(1), int64(1), object(4)\n",
            "memory usage: 4.8+ KB\n"
          ]
        },
        {
          "output_type": "execute_result",
          "data": {
            "text/plain": [
              "user_id                   0\n",
              "group                     0\n",
              "landing_page              0\n",
              "time_spent_on_the_page    0\n",
              "converted                 0\n",
              "language_preferred        0\n",
              "dtype: int64"
            ]
          },
          "metadata": {},
          "execution_count": 87
        }
      ]
    },
    {
      "cell_type": "markdown",
      "source": [
        "**Observations:**\n",
        "\n",
        "By looking into the data type information we can assure that there are 100 total entries in the dataset and each of the 6 columns has 100 non-null count values. By running the df.isnull().sum we can clearly see that none of the columns have missing values."
      ],
      "metadata": {
        "id": "TZ_-NUit9reV"
      },
      "id": "TZ_-NUit9reV"
    },
    {
      "cell_type": "markdown",
      "source": [
        "### **Checking for duplicates**\n"
      ],
      "metadata": {
        "id": "s-hGIwL1_c_3"
      },
      "id": "s-hGIwL1_c_3"
    },
    {
      "cell_type": "code",
      "source": [
        "# To check for duplicate values we will run df.duplicated()code:\n",
        "df.duplicated().sum()"
      ],
      "metadata": {
        "colab": {
          "base_uri": "https://localhost:8080/"
        },
        "id": "zIFBr-MR_WRB",
        "outputId": "918554b2-cbf2-4bed-f036-291e320ff626"
      },
      "id": "zIFBr-MR_WRB",
      "execution_count": null,
      "outputs": [
        {
          "output_type": "execute_result",
          "data": {
            "text/plain": [
              "0"
            ]
          },
          "metadata": {},
          "execution_count": 88
        }
      ]
    },
    {
      "cell_type": "markdown",
      "source": [
        "**Observations:**\n",
        "\n",
        "There are no duplicate values in the dataset."
      ],
      "metadata": {
        "id": "dEwLLz1B_vyJ"
      },
      "id": "dEwLLz1B_vyJ"
    },
    {
      "cell_type": "markdown",
      "metadata": {
        "id": "68f3b2c9"
      },
      "source": [
        "# **Univariate Analysis**\n",
        "\n",
        "---\n",
        "\n",
        "\n",
        "\n",
        "---\n",
        "\n"
      ],
      "id": "68f3b2c9"
    },
    {
      "cell_type": "markdown",
      "source": [
        "As a next step, we will be conducting univariate analysis, looking at each variable separately."
      ],
      "metadata": {
        "id": "Tlrkk0LYCXWo"
      },
      "id": "Tlrkk0LYCXWo"
    },
    {
      "cell_type": "markdown",
      "source": [
        "### **Group Analysis**"
      ],
      "metadata": {
        "id": "rU7yVD9qATej"
      },
      "id": "rU7yVD9qATej"
    },
    {
      "cell_type": "code",
      "metadata": {
        "id": "1932d0f3",
        "colab": {
          "base_uri": "https://localhost:8080/"
        },
        "outputId": "431764e6-17c7-4341-b905-ef3e90be43e4"
      },
      "source": [
        "# First we will count the number of values in each category of the column:\n",
        "df['group'].value_counts()"
      ],
      "id": "1932d0f3",
      "execution_count": null,
      "outputs": [
        {
          "output_type": "execute_result",
          "data": {
            "text/plain": [
              "control      50\n",
              "treatment    50\n",
              "Name: group, dtype: int64"
            ]
          },
          "metadata": {},
          "execution_count": 89
        }
      ]
    },
    {
      "cell_type": "code",
      "source": [
        "# Then we plot a bar graph for the \"group\" column:\n",
        "sns.countplot(data = df, x = 'group',palette='afmhot');"
      ],
      "metadata": {
        "colab": {
          "base_uri": "https://localhost:8080/",
          "height": 279
        },
        "id": "gOE08Wl0A6Gz",
        "outputId": "2ad01b0e-d723-4406-8b76-41ab86100a33"
      },
      "id": "gOE08Wl0A6Gz",
      "execution_count": null,
      "outputs": [
        {
          "output_type": "display_data",
          "data": {
            "text/plain": [
              "<Figure size 432x288 with 1 Axes>"
            ],
            "image/png": "[encoded data removed]"
          },
          "metadata": {
            "needs_background": "light"
          }
        }
      ]
    },
    {
      "cell_type": "markdown",
      "source": [
        "**Observations:**\n",
        "\n",
        "*   The group column in the dataset includes two categories: control and treatment.\n",
        "*   There are equal number of values in each categorie: control - 50, and treatment - 50.\n",
        "\n"
      ],
      "metadata": {
        "id": "HItSVVdBB-ZT"
      },
      "id": "HItSVVdBB-ZT"
    },
    {
      "cell_type": "markdown",
      "source": [
        "### **Landing Page Analysis**"
      ],
      "metadata": {
        "id": "2q1M_mIgCfGh"
      },
      "id": "2q1M_mIgCfGh"
    },
    {
      "cell_type": "code",
      "source": [
        "# First we will count the number of values in each category of the column:\n",
        "df['landing_page'].value_counts()"
      ],
      "metadata": {
        "colab": {
          "base_uri": "https://localhost:8080/"
        },
        "id": "oFDd0SsZCayr",
        "outputId": "a16daed2-e8b7-48ce-d82e-a5adfd98548f"
      },
      "id": "oFDd0SsZCayr",
      "execution_count": null,
      "outputs": [
        {
          "output_type": "execute_result",
          "data": {
            "text/plain": [
              "old    50\n",
              "new    50\n",
              "Name: landing_page, dtype: int64"
            ]
          },
          "metadata": {},
          "execution_count": 91
        }
      ]
    },
    {
      "cell_type": "code",
      "source": [
        "# Then we plot a bar graph for the column \"landing_page\":\n",
        "sns.countplot(data = df, x = 'landing_page',palette='BuGn_r');"
      ],
      "metadata": {
        "colab": {
          "base_uri": "https://localhost:8080/",
          "height": 280
        },
        "id": "ZcJmrR42CtT6",
        "outputId": "c2c25ebd-7908-43dc-e705-eecfde134512"
      },
      "id": "ZcJmrR42CtT6",
      "execution_count": null,
      "outputs": [
        {
          "output_type": "display_data",
          "data": {
            "text/plain": [
              "<Figure size 432x288 with 1 Axes>"
            ],
            "image/png": "[encoded data removed]"
          },
          "metadata": {
            "needs_background": "light"
          }
        }
      ]
    },
    {
      "cell_type": "markdown",
      "source": [
        "**Observations:**\n",
        "\n",
        "*   The landing_page column has two categorical values: old and new.\n",
        "*   The number of users, value count, on each categorie is equal: old-50, new-50.\n",
        "\n"
      ],
      "metadata": {
        "id": "_it9fWjVDKZ8"
      },
      "id": "_it9fWjVDKZ8"
    },
    {
      "cell_type": "markdown",
      "source": [
        "### **Time Spent on the Page**"
      ],
      "metadata": {
        "id": "DX8rc3P3Div2"
      },
      "id": "DX8rc3P3Div2"
    },
    {
      "cell_type": "code",
      "source": [
        "# To get the summary of the five major values for the \"time spent on the page\" column, we can run the boxplot:\n",
        "sns.boxplot(data=df,x='time_spent_on_the_page',color='red')\n",
        "print('Sample mean =',df['time_spent_on_the_page'].mean())\n",
        "plt.show()"
      ],
      "metadata": {
        "colab": {
          "base_uri": "https://localhost:8080/",
          "height": 298
        },
        "id": "WRxbt17YEUFa",
        "outputId": "136bd842-d1f0-4840-b491-9466a5307216"
      },
      "id": "WRxbt17YEUFa",
      "execution_count": null,
      "outputs": [
        {
          "output_type": "stream",
          "name": "stdout",
          "text": [
            "Sample mean = 5.377800000000001\n"
          ]
        },
        {
          "output_type": "display_data",
          "data": {
            "text/plain": [
              "<Figure size 432x288 with 1 Axes>"
            ],
            "image/png": "[encoded data removed]"
          },
          "metadata": {
            "needs_background": "light"
          }
        }
      ]
    },
    {
      "cell_type": "code",
      "source": [
        "# We can find the distribution of the values through histplot:\n",
        "sns.histplot(data=df,x='time_spent_on_the_page',color='red') \n",
        "plt.show()"
      ],
      "metadata": {
        "colab": {
          "base_uri": "https://localhost:8080/",
          "height": 280
        },
        "id": "OZPyVFFsEfky",
        "outputId": "29e4c83c-0d2d-4799-ffb0-7b5c65c56947"
      },
      "id": "OZPyVFFsEfky",
      "execution_count": null,
      "outputs": [
        {
          "output_type": "display_data",
          "data": {
            "text/plain": [
              "<Figure size 432x288 with 1 Axes>"
            ],
            "image/png": "[encoded data removed]"
          },
          "metadata": {
            "needs_background": "light"
          }
        }
      ]
    },
    {
      "cell_type": "markdown",
      "source": [
        "**Observations:**\n",
        "\n",
        "*   The average (**mean**) time spent on the page is 5.37 minutes.\n",
        "*   The **minimum time** is 0.19 minutes and the **maximum** is 10.7 minutes.From the graphs we see that there are no values above the maximum and minimum, values,meaning there are **no outliers**.\n",
        "*   From the graphs we can see the data is **normally distributed**.\n",
        "\n",
        "\n",
        "\n",
        "\n"
      ],
      "metadata": {
        "id": "H_VHUVRPF_JA"
      },
      "id": "H_VHUVRPF_JA"
    },
    {
      "cell_type": "markdown",
      "source": [
        "### **Converted Analysis**"
      ],
      "metadata": {
        "id": "uBg25CAaIopg"
      },
      "id": "uBg25CAaIopg"
    },
    {
      "cell_type": "code",
      "source": [
        "# First we will count the number of values in each category of the column:\n",
        "df['converted'].value_counts()"
      ],
      "metadata": {
        "colab": {
          "base_uri": "https://localhost:8080/"
        },
        "id": "QZ6CPCmdIv-R",
        "outputId": "8063bb5c-3881-49f2-83f6-888cd5b58687"
      },
      "id": "QZ6CPCmdIv-R",
      "execution_count": null,
      "outputs": [
        {
          "output_type": "execute_result",
          "data": {
            "text/plain": [
              "yes    54\n",
              "no     46\n",
              "Name: converted, dtype: int64"
            ]
          },
          "metadata": {},
          "execution_count": 95
        }
      ]
    },
    {
      "cell_type": "code",
      "source": [
        "# Then we plot a bar graph for the column \"converted\":\n",
        "sns.countplot(data = df, x = 'converted',palette='BuPu_r');\n",
        "plt.show()"
      ],
      "metadata": {
        "colab": {
          "base_uri": "https://localhost:8080/",
          "height": 279
        },
        "id": "OvbniYkUIyUA",
        "outputId": "4dfb384a-bc1b-45f7-8fb9-88843961b693"
      },
      "id": "OvbniYkUIyUA",
      "execution_count": null,
      "outputs": [
        {
          "output_type": "display_data",
          "data": {
            "text/plain": [
              "<Figure size 432x288 with 1 Axes>"
            ],
            "image/png": "[encoded data removed]"
          },
          "metadata": {
            "needs_background": "light"
          }
        }
      ]
    },
    {
      "cell_type": "markdown",
      "source": [
        "**Observations:**\n",
        "\n",
        "\n",
        "\n",
        "*   We can see that the 'converted'column has two categorical values: yes and no (whether the user gets converted to a subscriber or not). From the simple count function we see that 54 out of 100 users converted to a subscriber (yes) and 46 out of 100 users chose not to convert to a subscriber (no) of the news portal.  \n",
        "\n",
        "\n"
      ],
      "metadata": {
        "id": "zMxkQtTkDfaX"
      },
      "id": "zMxkQtTkDfaX"
    },
    {
      "cell_type": "markdown",
      "source": [
        "### **Language Preferred Analysis**"
      ],
      "metadata": {
        "id": "yUHacmkgKLbU"
      },
      "id": "yUHacmkgKLbU"
    },
    {
      "cell_type": "code",
      "source": [
        "# First we will count the number of values in each category of the column:\n",
        "df['language_preferred'].value_counts()"
      ],
      "metadata": {
        "colab": {
          "base_uri": "https://localhost:8080/"
        },
        "id": "i_yGFGE1J4Vi",
        "outputId": "e161575f-a64a-49eb-e3f5-fbd50b2b22f1"
      },
      "id": "i_yGFGE1J4Vi",
      "execution_count": null,
      "outputs": [
        {
          "output_type": "execute_result",
          "data": {
            "text/plain": [
              "Spanish    34\n",
              "French     34\n",
              "English    32\n",
              "Name: language_preferred, dtype: int64"
            ]
          },
          "metadata": {},
          "execution_count": 97
        }
      ]
    },
    {
      "cell_type": "code",
      "source": [
        "# Then we plot a bar graph for the column \"language_preferred\":\n",
        "sns.countplot(data = df, x = 'language_preferred',palette='brg');\n",
        "plt.show()"
      ],
      "metadata": {
        "colab": {
          "base_uri": "https://localhost:8080/",
          "height": 280
        },
        "id": "DjyCcPSCJ7IK",
        "outputId": "a822c58a-ffb6-41a0-ddb5-6e0fa5514541"
      },
      "id": "DjyCcPSCJ7IK",
      "execution_count": null,
      "outputs": [
        {
          "output_type": "display_data",
          "data": {
            "text/plain": [
              "<Figure size 432x288 with 1 Axes>"
            ],
            "image/png": "[encoded data removed]"
          },
          "metadata": {
            "needs_background": "light"
          }
        }
      ]
    },
    {
      "cell_type": "markdown",
      "source": [
        "**Observations:** \n",
        "\n",
        "From the analysis of this categorical variable we can tell that there are three languages the users chose from, English/Spanish/French. The number of users choosing these three languages is almost equally distributed: English (32), Spanish (34) and French (34). "
      ],
      "metadata": {
        "id": "7BJ8MZCVHxkH"
      },
      "id": "7BJ8MZCVHxkH"
    },
    {
      "cell_type": "markdown",
      "metadata": {
        "id": "fad2de2f"
      },
      "source": [
        "# **Bivariate Analysis**\n",
        "\n",
        "---\n",
        "\n",
        "\n",
        "\n",
        "---\n",
        "\n"
      ],
      "id": "fad2de2f"
    },
    {
      "cell_type": "markdown",
      "source": [
        "\n",
        "In bivariate analysis we will analyze any correlation that might exist between the variables.\n",
        "\n"
      ],
      "metadata": {
        "id": "1aR19_hxI3IO"
      },
      "id": "1aR19_hxI3IO"
    },
    {
      "cell_type": "markdown",
      "source": [
        "### **Time Spent on the Page vs Landing Page**"
      ],
      "metadata": {
        "id": "t_f6uSOn081w"
      },
      "id": "t_f6uSOn081w"
    },
    {
      "cell_type": "code",
      "metadata": {
        "id": "58e9a1d0",
        "colab": {
          "base_uri": "https://localhost:8080/",
          "height": 143
        },
        "outputId": "bbe14f77-1146-4535-eed5-8cf03072a308"
      },
      "source": [
        "# We can see the mean time spent on each landing page by running the groupby funtion:\n",
        "landing_page_mean=df.groupby('landing_page').mean()[['time_spent_on_the_page']]\n",
        "landing_page_mean"
      ],
      "id": "58e9a1d0",
      "execution_count": null,
      "outputs": [
        {
          "output_type": "execute_result",
          "data": {
            "text/plain": [
              "              time_spent_on_the_page\n",
              "landing_page                        \n",
              "new                           6.2232\n",
              "old                           4.5324"
            ],
            "text/html": [
              "\n",
              "  <div id=\"df-5730e36f-49c8-44ea-b2c5-ad53703d71ea\">\n",
              "    <div class=\"colab-df-container\">\n",
              "      <div>\n",
              "<style scoped>\n",
              "    .dataframe tbody tr th:only-of-type {\n",
              "        vertical-align: middle;\n",
              "    }\n",
              "\n",
              "    .dataframe tbody tr th {\n",
              "        vertical-align: top;\n",
              "    }\n",
              "\n",
              "    .dataframe thead th {\n",
              "        text-align: right;\n",
              "    }\n",
              "</style>\n",
              "<table border=\"1\" class=\"dataframe\">\n",
              "  <thead>\n",
              "    <tr style=\"text-align: right;\">\n",
              "      <th></th>\n",
              "      <th>time_spent_on_the_page</th>\n",
              "    </tr>\n",
              "    <tr>\n",
              "      <th>landing_page</th>\n",
              "      <th></th>\n",
              "    </tr>\n",
              "  </thead>\n",
              "  <tbody>\n",
              "    <tr>\n",
              "      <th>new</th>\n",
              "      <td>6.2232</td>\n",
              "    </tr>\n",
              "    <tr>\n",
              "      <th>old</th>\n",
              "      <td>4.5324</td>\n",
              "    </tr>\n",
              "  </tbody>\n",
              "</table>\n",
              "</div>\n",
              "      <button class=\"colab-df-convert\" onclick=\"convertToInteractive('df-5730e36f-49c8-44ea-b2c5-ad53703d71ea')\"\n",
              "              title=\"Convert this dataframe to an interactive table.\"\n",
              "              style=\"display:none;\">\n",
              "        \n",
              "  <svg xmlns=\"http://www.w3.org/2000/svg\" height=\"24px\"viewBox=\"0 0 24 24\"\n",
              "       width=\"24px\">\n",
              "    <path d=\"M0 0h24v24H0V0z\" fill=\"none\"/>\n",
              "    <path d=\"M18.56 5.44l.94 2.06.94-2.06 2.06-.94-2.06-.94-.94-2.06-.94 2.06-2.06.94zm-11 1L8.5 8.5l.94-2.06 2.06-.94-2.06-.94L8.5 2.5l-.94 2.06-2.06.94zm10 10l.94 2.06.94-2.06 2.06-.94-2.06-.94-.94-2.06-.94 2.06-2.06.94z\"/><path d=\"M17.41 7.96l-1.37-1.37c-.4-.4-.92-.59-1.43-.59-.52 0-1.04.2-1.43.59L10.3 9.45l-7.72 7.72c-.78.78-.78 2.05 0 2.83L4 21.41c.39.39.9.59 1.41.59.51 0 1.02-.2 1.41-.59l7.78-7.78 2.81-2.81c.8-.78.8-2.07 0-2.86zM5.41 20L4 18.59l7.72-7.72 1.47 1.35L5.41 20z\"/>\n",
              "  </svg>\n",
              "      </button>\n",
              "      \n",
              "  <style>\n",
              "    .colab-df-container {\n",
              "      display:flex;\n",
              "      flex-wrap:wrap;\n",
              "      gap: 12px;\n",
              "    }\n",
              "\n",
              "    .colab-df-convert {\n",
              "      background-color: #E8F0FE;\n",
              "      border: none;\n",
              "      border-radius: 50%;\n",
              "      cursor: pointer;\n",
              "      display: none;\n",
              "      fill: #1967D2;\n",
              "      height: 32px;\n",
              "      padding: 0 0 0 0;\n",
              "      width: 32px;\n",
              "    }\n",
              "\n",
              "    .colab-df-convert:hover {\n",
              "      background-color: #E2EBFA;\n",
              "      box-shadow: 0px 1px 2px rgba(60, 64, 67, 0.3), 0px 1px 3px 1px rgba(60, 64, 67, 0.15);\n",
              "      fill: #174EA6;\n",
              "    }\n",
              "\n",
              "    [theme=dark] .colab-df-convert {\n",
              "      background-color: #3B4455;\n",
              "      fill: #D2E3FC;\n",
              "    }\n",
              "\n",
              "    [theme=dark] .colab-df-convert:hover {\n",
              "      background-color: #434B5C;\n",
              "      box-shadow: 0px 1px 3px 1px rgba(0, 0, 0, 0.15);\n",
              "      filter: drop-shadow(0px 1px 2px rgba(0, 0, 0, 0.3));\n",
              "      fill: #FFFFFF;\n",
              "    }\n",
              "  </style>\n",
              "\n",
              "      <script>\n",
              "        const buttonEl =\n",
              "          document.querySelector('#df-5730e36f-49c8-44ea-b2c5-ad53703d71ea button.colab-df-convert');\n",
              "        buttonEl.style.display =\n",
              "          google.colab.kernel.accessAllowed ? 'block' : 'none';\n",
              "\n",
              "        async function convertToInteractive(key) {\n",
              "          const element = document.querySelector('#df-5730e36f-49c8-44ea-b2c5-ad53703d71ea');\n",
              "          const dataTable =\n",
              "            await google.colab.kernel.invokeFunction('convertToInteractive',\n",
              "                                                     [key], {});\n",
              "          if (!dataTable) return;\n",
              "\n",
              "          const docLinkHtml = 'Like what you see? Visit the ' +\n",
              "            '<a target=\"_blank\" href=https://colab.research.google.com/notebooks/data_table.ipynb>data table notebook</a>'\n",
              "            + ' to learn more about interactive tables.';\n",
              "          element.innerHTML = '';\n",
              "          dataTable['output_type'] = 'display_data';\n",
              "          await google.colab.output.renderOutput(dataTable, element);\n",
              "          const docLink = document.createElement('div');\n",
              "          docLink.innerHTML = docLinkHtml;\n",
              "          element.appendChild(docLink);\n",
              "        }\n",
              "      </script>\n",
              "    </div>\n",
              "  </div>\n",
              "  "
            ]
          },
          "metadata": {},
          "execution_count": 99
        }
      ]
    },
    {
      "cell_type": "code",
      "source": [
        "# We can also use the boxplot to see the five number summary of the data: \n",
        "plt.figure(figsize=(8,6))\n",
        "sns.boxplot(data=df,x='landing_page',y='time_spent_on_the_page',palette='BuGn')\n",
        "plt.show()"
      ],
      "metadata": {
        "colab": {
          "base_uri": "https://localhost:8080/",
          "height": 389
        },
        "id": "mBagCtgg2pr5",
        "outputId": "96d7b522-b0ca-4d5d-afbe-7268800725e9"
      },
      "id": "mBagCtgg2pr5",
      "execution_count": null,
      "outputs": [
        {
          "output_type": "display_data",
          "data": {
            "text/plain": [
              "<Figure size 576x432 with 1 Axes>"
            ],
            "image/png": "[encoded data removed]"
          },
          "metadata": {
            "needs_background": "light"
          }
        }
      ]
    },
    {
      "cell_type": "markdown",
      "source": [
        "**Observations:**\n",
        "\n",
        "\n",
        "\n",
        "*   From the correlational analysis betweent landing page and time spent on the page we can clearly see that the new landing page has a higher averge time spent (6.2 minutes) compared to the old page (4.5 minutes)\n",
        "*   The boxplot shows us that the old page has a wider distribution of the time spent, with the minimum time being 0.19 minutes and the maximum time going upto arount 10 minutes. The  new landing page has the minimum time spent around 3 minutes and the maximum around 9 minutes.\n",
        "* While the mean of the time spent for the new landing page is higher than the old page, so are the 25% and 75% of the data groups: new page 25% time spent - 5 minutes vs old page 25% time spent - around 3 minutes; new page 75% of time spent - 7 minutes vs old page 75% time spent - 6.3 minutes.\n",
        "* The old page does not have outliers in respect to the time spent on page. The new page has three outliers - around 1.8 minutes (below the minimum of 3 minutes) and more than 10 minutes (above the maximum time of 10 minutes)\n",
        "\n",
        "\n"
      ],
      "metadata": {
        "id": "rwbX0rd03XAK"
      },
      "id": "rwbX0rd03XAK"
    },
    {
      "cell_type": "markdown",
      "source": [
        "### **Converted vs Time Spent on the Page**"
      ],
      "metadata": {
        "id": "KB1NP0a855Dy"
      },
      "id": "KB1NP0a855Dy"
    },
    {
      "cell_type": "code",
      "source": [
        "# We can see the mean time spent on the converstion status by running the groupby funtion:\n",
        "converted_time_mean=df.groupby('converted').mean()[['time_spent_on_the_page']]\n",
        "converted_time_mean"
      ],
      "metadata": {
        "colab": {
          "base_uri": "https://localhost:8080/",
          "height": 143
        },
        "id": "LbEwUycf6JOv",
        "outputId": "4af6c11e-2f45-4774-da69-a20dd06a4619"
      },
      "id": "LbEwUycf6JOv",
      "execution_count": null,
      "outputs": [
        {
          "output_type": "execute_result",
          "data": {
            "text/plain": [
              "           time_spent_on_the_page\n",
              "converted                        \n",
              "no                       3.915870\n",
              "yes                      6.623148"
            ],
            "text/html": [
              "\n",
              "  <div id=\"df-e64090e7-c0b4-43f2-8207-b21d12558507\">\n",
              "    <div class=\"colab-df-container\">\n",
              "      <div>\n",
              "<style scoped>\n",
              "    .dataframe tbody tr th:only-of-type {\n",
              "        vertical-align: middle;\n",
              "    }\n",
              "\n",
              "    .dataframe tbody tr th {\n",
              "        vertical-align: top;\n",
              "    }\n",
              "\n",
              "    .dataframe thead th {\n",
              "        text-align: right;\n",
              "    }\n",
              "</style>\n",
              "<table border=\"1\" class=\"dataframe\">\n",
              "  <thead>\n",
              "    <tr style=\"text-align: right;\">\n",
              "      <th></th>\n",
              "      <th>time_spent_on_the_page</th>\n",
              "    </tr>\n",
              "    <tr>\n",
              "      <th>converted</th>\n",
              "      <th></th>\n",
              "    </tr>\n",
              "  </thead>\n",
              "  <tbody>\n",
              "    <tr>\n",
              "      <th>no</th>\n",
              "      <td>3.915870</td>\n",
              "    </tr>\n",
              "    <tr>\n",
              "      <th>yes</th>\n",
              "      <td>6.623148</td>\n",
              "    </tr>\n",
              "  </tbody>\n",
              "</table>\n",
              "</div>\n",
              "      <button class=\"colab-df-convert\" onclick=\"convertToInteractive('df-e64090e7-c0b4-43f2-8207-b21d12558507')\"\n",
              "              title=\"Convert this dataframe to an interactive table.\"\n",
              "              style=\"display:none;\">\n",
              "        \n",
              "  <svg xmlns=\"http://www.w3.org/2000/svg\" height=\"24px\"viewBox=\"0 0 24 24\"\n",
              "       width=\"24px\">\n",
              "    <path d=\"M0 0h24v24H0V0z\" fill=\"none\"/>\n",
              "    <path d=\"M18.56 5.44l.94 2.06.94-2.06 2.06-.94-2.06-.94-.94-2.06-.94 2.06-2.06.94zm-11 1L8.5 8.5l.94-2.06 2.06-.94-2.06-.94L8.5 2.5l-.94 2.06-2.06.94zm10 10l.94 2.06.94-2.06 2.06-.94-2.06-.94-.94-2.06-.94 2.06-2.06.94z\"/><path d=\"M17.41 7.96l-1.37-1.37c-.4-.4-.92-.59-1.43-.59-.52 0-1.04.2-1.43.59L10.3 9.45l-7.72 7.72c-.78.78-.78 2.05 0 2.83L4 21.41c.39.39.9.59 1.41.59.51 0 1.02-.2 1.41-.59l7.78-7.78 2.81-2.81c.8-.78.8-2.07 0-2.86zM5.41 20L4 18.59l7.72-7.72 1.47 1.35L5.41 20z\"/>\n",
              "  </svg>\n",
              "      </button>\n",
              "      \n",
              "  <style>\n",
              "    .colab-df-container {\n",
              "      display:flex;\n",
              "      flex-wrap:wrap;\n",
              "      gap: 12px;\n",
              "    }\n",
              "\n",
              "    .colab-df-convert {\n",
              "      background-color: #E8F0FE;\n",
              "      border: none;\n",
              "      border-radius: 50%;\n",
              "      cursor: pointer;\n",
              "      display: none;\n",
              "      fill: #1967D2;\n",
              "      height: 32px;\n",
              "      padding: 0 0 0 0;\n",
              "      width: 32px;\n",
              "    }\n",
              "\n",
              "    .colab-df-convert:hover {\n",
              "      background-color: #E2EBFA;\n",
              "      box-shadow: 0px 1px 2px rgba(60, 64, 67, 0.3), 0px 1px 3px 1px rgba(60, 64, 67, 0.15);\n",
              "      fill: #174EA6;\n",
              "    }\n",
              "\n",
              "    [theme=dark] .colab-df-convert {\n",
              "      background-color: #3B4455;\n",
              "      fill: #D2E3FC;\n",
              "    }\n",
              "\n",
              "    [theme=dark] .colab-df-convert:hover {\n",
              "      background-color: #434B5C;\n",
              "      box-shadow: 0px 1px 3px 1px rgba(0, 0, 0, 0.15);\n",
              "      filter: drop-shadow(0px 1px 2px rgba(0, 0, 0, 0.3));\n",
              "      fill: #FFFFFF;\n",
              "    }\n",
              "  </style>\n",
              "\n",
              "      <script>\n",
              "        const buttonEl =\n",
              "          document.querySelector('#df-e64090e7-c0b4-43f2-8207-b21d12558507 button.colab-df-convert');\n",
              "        buttonEl.style.display =\n",
              "          google.colab.kernel.accessAllowed ? 'block' : 'none';\n",
              "\n",
              "        async function convertToInteractive(key) {\n",
              "          const element = document.querySelector('#df-e64090e7-c0b4-43f2-8207-b21d12558507');\n",
              "          const dataTable =\n",
              "            await google.colab.kernel.invokeFunction('convertToInteractive',\n",
              "                                                     [key], {});\n",
              "          if (!dataTable) return;\n",
              "\n",
              "          const docLinkHtml = 'Like what you see? Visit the ' +\n",
              "            '<a target=\"_blank\" href=https://colab.research.google.com/notebooks/data_table.ipynb>data table notebook</a>'\n",
              "            + ' to learn more about interactive tables.';\n",
              "          element.innerHTML = '';\n",
              "          dataTable['output_type'] = 'display_data';\n",
              "          await google.colab.output.renderOutput(dataTable, element);\n",
              "          const docLink = document.createElement('div');\n",
              "          docLink.innerHTML = docLinkHtml;\n",
              "          element.appendChild(docLink);\n",
              "        }\n",
              "      </script>\n",
              "    </div>\n",
              "  </div>\n",
              "  "
            ]
          },
          "metadata": {},
          "execution_count": 101
        }
      ]
    },
    {
      "cell_type": "code",
      "source": [
        "# We can also use the boxplot to see the five number summary of the data: \n",
        "plt.figure(figsize=(8,6))\n",
        "sns.boxplot(data=df,x='converted',y='time_spent_on_the_page',palette='PuRd')\n",
        "plt.show()\n"
      ],
      "metadata": {
        "colab": {
          "base_uri": "https://localhost:8080/",
          "height": 388
        },
        "id": "7wCIS9Tb6ib_",
        "outputId": "e8070703-922e-44ec-f22b-4026941a2e95"
      },
      "id": "7wCIS9Tb6ib_",
      "execution_count": null,
      "outputs": [
        {
          "output_type": "display_data",
          "data": {
            "text/plain": [
              "<Figure size 576x432 with 1 Axes>"
            ],
            "image/png": "[encoded data removed]"
          },
          "metadata": {
            "needs_background": "light"
          }
        }
      ]
    },
    {
      "cell_type": "markdown",
      "source": [
        "**Observations:**\n",
        "\n",
        "\n",
        "*  The correlational analysis of the time spent on page and conversion status clearly shows that more time users spend on the page, there is more possibility that they convert to a subscriber status. The mean difference between time spent of the converted users vs time spent of non-converted users is big: 6.6 vs 3.9. People who decided to subscribe spent nearly double more time then people who are not subscribed.\n",
        "* The similar trend can be observed in other time frames: converted group has higher 25% frame - 6 minutes vs 2.3 non-converted and 75% frame - around 7 minutes vs 5 minutes.\n",
        "* The distribution of time among non-converted is higher then the converted group. The minimum time spent on non-converted group is around 0.2 and the maximum is around 9 minutes. The minimum time spent on the converted group is around 2.3 minutes and the maximum is around 9 minutes.   \n",
        "* Non-converted group has one outlier which lies above the maximum framework. The converted group has an outlier below the minimum and several above the maximum (9 minutes) framework.\n",
        "\n"
      ],
      "metadata": {
        "id": "BDJoKKdn9nDh"
      },
      "id": "BDJoKKdn9nDh"
    },
    {
      "cell_type": "markdown",
      "source": [
        "### **Language Preferred vs Time Spent on the Page**"
      ],
      "metadata": {
        "id": "z08JBBcaAlPw"
      },
      "id": "z08JBBcaAlPw"
    },
    {
      "cell_type": "code",
      "source": [
        "# We can see the mean time spent on the converstion status by running the groupby funtion:\n",
        "language_time_mean=df.groupby('language_preferred').mean()[['time_spent_on_the_page']]\n",
        "language_time_mean"
      ],
      "metadata": {
        "colab": {
          "base_uri": "https://localhost:8080/",
          "height": 175
        },
        "id": "4qlUva51DSOx",
        "outputId": "668e4c5b-fd31-4830-ece3-731c9cfb4034"
      },
      "id": "4qlUva51DSOx",
      "execution_count": null,
      "outputs": [
        {
          "output_type": "execute_result",
          "data": {
            "text/plain": [
              "                    time_spent_on_the_page\n",
              "language_preferred                        \n",
              "English                           5.559062\n",
              "French                            5.253235\n",
              "Spanish                           5.331765"
            ],
            "text/html": [
              "\n",
              "  <div id=\"df-e22958db-8686-425c-9109-02ec7101e2cc\">\n",
              "    <div class=\"colab-df-container\">\n",
              "      <div>\n",
              "<style scoped>\n",
              "    .dataframe tbody tr th:only-of-type {\n",
              "        vertical-align: middle;\n",
              "    }\n",
              "\n",
              "    .dataframe tbody tr th {\n",
              "        vertical-align: top;\n",
              "    }\n",
              "\n",
              "    .dataframe thead th {\n",
              "        text-align: right;\n",
              "    }\n",
              "</style>\n",
              "<table border=\"1\" class=\"dataframe\">\n",
              "  <thead>\n",
              "    <tr style=\"text-align: right;\">\n",
              "      <th></th>\n",
              "      <th>time_spent_on_the_page</th>\n",
              "    </tr>\n",
              "    <tr>\n",
              "      <th>language_preferred</th>\n",
              "      <th></th>\n",
              "    </tr>\n",
              "  </thead>\n",
              "  <tbody>\n",
              "    <tr>\n",
              "      <th>English</th>\n",
              "      <td>5.559062</td>\n",
              "    </tr>\n",
              "    <tr>\n",
              "      <th>French</th>\n",
              "      <td>5.253235</td>\n",
              "    </tr>\n",
              "    <tr>\n",
              "      <th>Spanish</th>\n",
              "      <td>5.331765</td>\n",
              "    </tr>\n",
              "  </tbody>\n",
              "</table>\n",
              "</div>\n",
              "      <button class=\"colab-df-convert\" onclick=\"convertToInteractive('df-e22958db-8686-425c-9109-02ec7101e2cc')\"\n",
              "              title=\"Convert this dataframe to an interactive table.\"\n",
              "              style=\"display:none;\">\n",
              "        \n",
              "  <svg xmlns=\"http://www.w3.org/2000/svg\" height=\"24px\"viewBox=\"0 0 24 24\"\n",
              "       width=\"24px\">\n",
              "    <path d=\"M0 0h24v24H0V0z\" fill=\"none\"/>\n",
              "    <path d=\"M18.56 5.44l.94 2.06.94-2.06 2.06-.94-2.06-.94-.94-2.06-.94 2.06-2.06.94zm-11 1L8.5 8.5l.94-2.06 2.06-.94-2.06-.94L8.5 2.5l-.94 2.06-2.06.94zm10 10l.94 2.06.94-2.06 2.06-.94-2.06-.94-.94-2.06-.94 2.06-2.06.94z\"/><path d=\"M17.41 7.96l-1.37-1.37c-.4-.4-.92-.59-1.43-.59-.52 0-1.04.2-1.43.59L10.3 9.45l-7.72 7.72c-.78.78-.78 2.05 0 2.83L4 21.41c.39.39.9.59 1.41.59.51 0 1.02-.2 1.41-.59l7.78-7.78 2.81-2.81c.8-.78.8-2.07 0-2.86zM5.41 20L4 18.59l7.72-7.72 1.47 1.35L5.41 20z\"/>\n",
              "  </svg>\n",
              "      </button>\n",
              "      \n",
              "  <style>\n",
              "    .colab-df-container {\n",
              "      display:flex;\n",
              "      flex-wrap:wrap;\n",
              "      gap: 12px;\n",
              "    }\n",
              "\n",
              "    .colab-df-convert {\n",
              "      background-color: #E8F0FE;\n",
              "      border: none;\n",
              "      border-radius: 50%;\n",
              "      cursor: pointer;\n",
              "      display: none;\n",
              "      fill: #1967D2;\n",
              "      height: 32px;\n",
              "      padding: 0 0 0 0;\n",
              "      width: 32px;\n",
              "    }\n",
              "\n",
              "    .colab-df-convert:hover {\n",
              "      background-color: #E2EBFA;\n",
              "      box-shadow: 0px 1px 2px rgba(60, 64, 67, 0.3), 0px 1px 3px 1px rgba(60, 64, 67, 0.15);\n",
              "      fill: #174EA6;\n",
              "    }\n",
              "\n",
              "    [theme=dark] .colab-df-convert {\n",
              "      background-color: #3B4455;\n",
              "      fill: #D2E3FC;\n",
              "    }\n",
              "\n",
              "    [theme=dark] .colab-df-convert:hover {\n",
              "      background-color: #434B5C;\n",
              "      box-shadow: 0px 1px 3px 1px rgba(0, 0, 0, 0.15);\n",
              "      filter: drop-shadow(0px 1px 2px rgba(0, 0, 0, 0.3));\n",
              "      fill: #FFFFFF;\n",
              "    }\n",
              "  </style>\n",
              "\n",
              "      <script>\n",
              "        const buttonEl =\n",
              "          document.querySelector('#df-e22958db-8686-425c-9109-02ec7101e2cc button.colab-df-convert');\n",
              "        buttonEl.style.display =\n",
              "          google.colab.kernel.accessAllowed ? 'block' : 'none';\n",
              "\n",
              "        async function convertToInteractive(key) {\n",
              "          const element = document.querySelector('#df-e22958db-8686-425c-9109-02ec7101e2cc');\n",
              "          const dataTable =\n",
              "            await google.colab.kernel.invokeFunction('convertToInteractive',\n",
              "                                                     [key], {});\n",
              "          if (!dataTable) return;\n",
              "\n",
              "          const docLinkHtml = 'Like what you see? Visit the ' +\n",
              "            '<a target=\"_blank\" href=https://colab.research.google.com/notebooks/data_table.ipynb>data table notebook</a>'\n",
              "            + ' to learn more about interactive tables.';\n",
              "          element.innerHTML = '';\n",
              "          dataTable['output_type'] = 'display_data';\n",
              "          await google.colab.output.renderOutput(dataTable, element);\n",
              "          const docLink = document.createElement('div');\n",
              "          docLink.innerHTML = docLinkHtml;\n",
              "          element.appendChild(docLink);\n",
              "        }\n",
              "      </script>\n",
              "    </div>\n",
              "  </div>\n",
              "  "
            ]
          },
          "metadata": {},
          "execution_count": 103
        }
      ]
    },
    {
      "cell_type": "code",
      "source": [
        "# We can also use the boxplot to see the five number summary of the data: \n",
        "plt.figure(figsize=(8,6))\n",
        "sns.boxplot(data=df,x='language_preferred',y='time_spent_on_the_page',palette='OrRd')\n",
        "plt.show()\n"
      ],
      "metadata": {
        "colab": {
          "base_uri": "https://localhost:8080/",
          "height": 389
        },
        "id": "CDEychDTEAjY",
        "outputId": "9434c240-b645-43d9-fc25-47f4a4f547de"
      },
      "id": "CDEychDTEAjY",
      "execution_count": null,
      "outputs": [
        {
          "output_type": "display_data",
          "data": {
            "text/plain": [
              "<Figure size 576x432 with 1 Axes>"
            ],
            "image/png": "[encoded data removed]"
          },
          "metadata": {
            "needs_background": "light"
          }
        }
      ]
    },
    {
      "cell_type": "markdown",
      "source": [
        "**Observations:**\n",
        "\n",
        "\n",
        "*   From the analysis of the preferred language and time spent on page we can see that the means of time spent for all three available languages are very close: **English** 5.5, **French** 5.2, and **Spanish** 5.3 minutes.\n",
        "* In the boxplot data analysis we found that Spanish language has the major diffence in the minimum and maximum times, as well as 25% and 75% frames: **Spanish** min time - 1.8, max time 8.8, 25% 4.3, 75% 6.2 minutes; **French** min time 0.4, max time 10.5, 25% 3.8 minutes, and 75% is around 7  minutes. **English** is very close to French, with min time 0.4, max time 10.3, 25% 3.8, and 75% around 6.8 minutes. \n",
        "*   English and French does not have any outliers in the dataset. Spanish language has one outlier that lies below the minimum level (1.8) - around 0.20 minutes.\n",
        "\n"
      ],
      "metadata": {
        "id": "-2qyASpjHSbL"
      },
      "id": "-2qyASpjHSbL"
    },
    {
      "cell_type": "markdown",
      "source": [
        "### **Language Preferred vs Converted**"
      ],
      "metadata": {
        "id": "_SHhhhHpHIVP"
      },
      "id": "_SHhhhHpHIVP"
    },
    {
      "cell_type": "code",
      "source": [
        "# First it will  help to count the number of values in each category of the language preferred data:\n",
        "df['language_preferred'].value_counts()"
      ],
      "metadata": {
        "colab": {
          "base_uri": "https://localhost:8080/"
        },
        "id": "u8RJlOStJa9P",
        "outputId": "e162adc9-2218-46c6-ca0f-e29ffc1daafb"
      },
      "id": "u8RJlOStJa9P",
      "execution_count": null,
      "outputs": [
        {
          "output_type": "execute_result",
          "data": {
            "text/plain": [
              "Spanish    34\n",
              "French     34\n",
              "English    32\n",
              "Name: language_preferred, dtype: int64"
            ]
          },
          "metadata": {},
          "execution_count": 105
        }
      ]
    },
    {
      "cell_type": "code",
      "source": [
        "# Then, we need to create a variable to separate converted (yes) from the 'converted'data:\n",
        "df_converted = df[df['converted'] == 'yes']\n",
        "# Next, we run the value count for the df_converted data based on the language preferred:\n",
        "df_converted['language_preferred'].value_counts()"
      ],
      "metadata": {
        "colab": {
          "base_uri": "https://localhost:8080/"
        },
        "id": "WA-J8jiWFIsh",
        "outputId": "2c699fc4-ddac-41ee-8299-5b1fc18cf6dd"
      },
      "id": "WA-J8jiWFIsh",
      "execution_count": null,
      "outputs": [
        {
          "output_type": "execute_result",
          "data": {
            "text/plain": [
              "English    21\n",
              "Spanish    18\n",
              "French     15\n",
              "Name: language_preferred, dtype: int64"
            ]
          },
          "metadata": {},
          "execution_count": 106
        }
      ]
    },
    {
      "cell_type": "code",
      "source": [
        "# We can also run the value count as a percentage:\n",
        "df_converted['language_preferred'].value_counts(normalize=True)"
      ],
      "metadata": {
        "colab": {
          "base_uri": "https://localhost:8080/"
        },
        "id": "cIwW4O3D2OCf",
        "outputId": "dbdfd24e-d7f7-4caa-f2c8-0bc7aa342e17"
      },
      "id": "cIwW4O3D2OCf",
      "execution_count": null,
      "outputs": [
        {
          "output_type": "execute_result",
          "data": {
            "text/plain": [
              "English    0.388889\n",
              "Spanish    0.333333\n",
              "French     0.277778\n",
              "Name: language_preferred, dtype: float64"
            ]
          },
          "metadata": {},
          "execution_count": 107
        }
      ]
    },
    {
      "cell_type": "code",
      "source": [
        "# To visualize the data, we can create a countplot \n",
        "plt.figure(figsize = (8,6))\n",
        "sns.countplot(data = df_converted, x = 'language_preferred'); \n",
        "plt.xticks(rotation=90)\n",
        "plt.show()"
      ],
      "metadata": {
        "colab": {
          "base_uri": "https://localhost:8080/"
        },
        "id": "WkMR-_7_GKNo",
        "outputId": "1d4e8ed4-1796-4a84-eb60-b6d8447910c2"
      },
      "id": "WkMR-_7_GKNo",
      "execution_count": null,
      "outputs": [
        {
          "output_type": "display_data",
          "data": {
            "text/plain": [
              "<Figure size 576x432 with 1 Axes>"
            ],
            "image/png": "[encoded data removed]"
          },
          "metadata": {
            "needs_background": "light"
          }
        }
      ]
    },
    {
      "cell_type": "markdown",
      "source": [
        "**Observations:**\n",
        "\n",
        "*   From the analysis of the converted users based on their preferred language we can see that regardless of the English language users being less in total (32) compared to Spanish (34) and French (34), the number of converted users are noticably higher: English (21/38%) vs Spanish (18/33%) vs French (15/27%)\n",
        "\n",
        "\n"
      ],
      "metadata": {
        "id": "d9WtMeZfJlzv"
      },
      "id": "d9WtMeZfJlzv"
    },
    {
      "cell_type": "markdown",
      "source": [
        "### **Landing Page vs Converted Users**"
      ],
      "metadata": {
        "id": "d9J8832oz0v6"
      },
      "id": "d9J8832oz0v6"
    },
    {
      "cell_type": "markdown",
      "source": [
        "We can analyze how many users of new and old landing page converted to a subscriber "
      ],
      "metadata": {
        "id": "YVFMQAf-z9Df"
      },
      "id": "YVFMQAf-z9Df"
    },
    {
      "cell_type": "code",
      "source": [
        "# First let us check again on the count for each category in the landing page data:\n",
        "df['landing_page'].value_counts()"
      ],
      "metadata": {
        "colab": {
          "base_uri": "https://localhost:8080/"
        },
        "id": "q74EaN_qzvww",
        "outputId": "18b49559-64a5-41fe-c4d5-203599b09940"
      },
      "id": "q74EaN_qzvww",
      "execution_count": null,
      "outputs": [
        {
          "output_type": "execute_result",
          "data": {
            "text/plain": [
              "old    50\n",
              "new    50\n",
              "Name: landing_page, dtype: int64"
            ]
          },
          "metadata": {},
          "execution_count": 109
        }
      ]
    },
    {
      "cell_type": "code",
      "source": [
        "# Then, we need to create a variable to separate converted users (yes) from the 'converted' dataset:\n",
        "df_converted = df[df['converted'] == 'yes']\n",
        "# Next, we run the value count for the df_converted based on the landing page:\n",
        "df_converted['landing_page'].value_counts()"
      ],
      "metadata": {
        "colab": {
          "base_uri": "https://localhost:8080/"
        },
        "id": "FHve9lPMzD0-",
        "outputId": "38ea0332-233f-40d2-b7b8-858a0ba32fc8"
      },
      "id": "FHve9lPMzD0-",
      "execution_count": null,
      "outputs": [
        {
          "output_type": "execute_result",
          "data": {
            "text/plain": [
              "new    33\n",
              "old    21\n",
              "Name: landing_page, dtype: int64"
            ]
          },
          "metadata": {},
          "execution_count": 110
        }
      ]
    },
    {
      "cell_type": "code",
      "source": [
        "# We can also run the value count as a percentage:\n",
        "df_converted['landing_page'].value_counts(normalize=True)"
      ],
      "metadata": {
        "colab": {
          "base_uri": "https://localhost:8080/"
        },
        "id": "7woyzZFo17_b",
        "outputId": "99bca660-c63f-4eef-a420-b6468bc7ce77"
      },
      "id": "7woyzZFo17_b",
      "execution_count": null,
      "outputs": [
        {
          "output_type": "execute_result",
          "data": {
            "text/plain": [
              "new    0.611111\n",
              "old    0.388889\n",
              "Name: landing_page, dtype: float64"
            ]
          },
          "metadata": {},
          "execution_count": 111
        }
      ]
    },
    {
      "cell_type": "code",
      "source": [
        "# To visualize the data, we can create a countplot \n",
        "plt.figure(figsize = (8,6))\n",
        "sns.countplot(data = df_converted, x = 'landing_page', palette='PuRd'); \n",
        "plt.xticks(rotation=90)\n",
        "plt.show()"
      ],
      "metadata": {
        "colab": {
          "base_uri": "https://localhost:8080/"
        },
        "id": "rUSGtVT5zWvf",
        "outputId": "0c88c100-94ca-4300-afd0-16e04dd311db"
      },
      "id": "rUSGtVT5zWvf",
      "execution_count": null,
      "outputs": [
        {
          "output_type": "display_data",
          "data": {
            "text/plain": [
              "<Figure size 576x432 with 1 Axes>"
            ],
            "image/png": "[encoded data removed]"
          },
          "metadata": {
            "needs_background": "light"
          }
        }
      ]
    },
    {
      "cell_type": "markdown",
      "source": [
        "**Observations:**\n",
        "\n",
        "\n",
        "*   The number of users assigned to Old and New landing pages was equal=50 in each group.\n",
        "*   Out of 50 users of the new landing page, 33/61% converted to a subscriber. Out of 50 users of the old landing page, 21/38% converted to a subscriber, which is lower than the converted status on the new page users. \n",
        "\n"
      ],
      "metadata": {
        "id": "3mo7ZwXM2xJ6"
      },
      "id": "3mo7ZwXM2xJ6"
    },
    {
      "cell_type": "markdown",
      "source": [
        "# **Hypothesis Testing**\n",
        "\n",
        "---\n",
        "\n",
        "\n",
        "\n",
        "---\n",
        "\n"
      ],
      "metadata": {
        "id": "zULTIyCX-pgD"
      },
      "id": "zULTIyCX-pgD"
    },
    {
      "cell_type": "markdown",
      "metadata": {
        "id": "27906576"
      },
      "source": [
        "## **1. Do the users spend more time on the new landing page than the existing landing page?**\n",
        "\n",
        "\n",
        "\n"
      ],
      "id": "27906576"
    },
    {
      "cell_type": "markdown",
      "metadata": {
        "id": "e5fdf0c8"
      },
      "source": [
        "### Visual Analysis"
      ],
      "id": "e5fdf0c8"
    },
    {
      "cell_type": "code",
      "metadata": {
        "id": "6eZJa41eg21n",
        "colab": {
          "base_uri": "https://localhost:8080/"
        },
        "outputId": "d3e07cd8-9323-4973-f757-b10d03173265"
      },
      "source": [
        "# visual analysis of the time spent on the new page and the time spent on the old page\n",
        "plt.figure(figsize=(8,6))\n",
        "sns.boxplot(x = 'landing_page', y = 'time_spent_on_the_page', data = df)\n",
        "plt.show()"
      ],
      "id": "6eZJa41eg21n",
      "execution_count": null,
      "outputs": [
        {
          "output_type": "display_data",
          "data": {
            "text/plain": [
              "<Figure size 576x432 with 1 Axes>"
            ],
            "image/png": "[encoded data removed]"
          },
          "metadata": {
            "needs_background": "light"
          }
        }
      ]
    },
    {
      "cell_type": "markdown",
      "source": [
        "**Observations**:\n",
        "\n",
        "\n",
        "*   From the visual analysis we can observe that the users spend more time on the new landing page than on the old page: 6.2 minutes average on new page vs 4.5 minutes average on old page.\n",
        "*   While the mean of the time spent for the new landing page is higher than the old page, so are the 25% and 75% of the data groups: new page 25% time spent - 5 minutes vs old page 25% time spent - around 3 minutes; new page 75% of time spent - 7 minutes vs old page 75% time spent - 6.3 minutes.\n"
      ],
      "metadata": {
        "id": "_55_S_hqOaGQ"
      },
      "id": "_55_S_hqOaGQ"
    },
    {
      "cell_type": "markdown",
      "metadata": {
        "id": "56b3dafd"
      },
      "source": [
        "### *Step 1: Defining the null and alternate hypotheses*\n"
      ],
      "id": "56b3dafd"
    },
    {
      "cell_type": "markdown",
      "source": [
        "The null and alternative hypotheses for this case can be formulated as follows:\n",
        "\n",
        "\n",
        "\n",
        "$H_0$: Users spend equal time on the new landing page and the existing landing page.\n",
        "\n",
        "$H_a$: Users spend more time on the new landing page than the existing landing page.\n"
      ],
      "metadata": {
        "id": "Ej4DMAmr-C_N"
      },
      "id": "Ej4DMAmr-C_N"
    },
    {
      "cell_type": "markdown",
      "metadata": {
        "id": "d2ac77ef"
      },
      "source": [
        "\n",
        "\n",
        "\n",
        "\n",
        "\n",
        "Let $\\mu_1, \\mu_2$ be the mean of time spent on the **new landing** page and **existing landing page** groups respectively.\n",
        "\n",
        "\n",
        "\n",
        "Mathematically, the above formulated hypotheses can be written as:\n",
        "\n",
        ">$H_0:\\mu_1=\\mu_2$\n",
        "\n",
        "against the alternate hypothesis\n",
        "\n",
        ">$H_a:\\mu_1>\\mu_2$"
      ],
      "id": "d2ac77ef"
    },
    {
      "cell_type": "markdown",
      "metadata": {
        "id": "c7ee4907"
      },
      "source": [
        "### *Step 2: Selecting Appropriate test*"
      ],
      "id": "c7ee4907"
    },
    {
      "cell_type": "markdown",
      "metadata": {
        "id": "2c183cd7"
      },
      "source": [
        "This is a case concerning two independed populations, treatment and control group, and two population means. A two independent sample test will be the right test. As the population standard deviation is unknown, t-test will be appropriate to test the formulated hypotheses. And based on the alternative hypotheses this is a one-tailed test concerning two population means.  **Two Independent Sample T-Test** will be the most appropriate test.   \n",
        "\n",
        "**Two Independent Sample T-Test is used to compare the sample means from 2 independent populations when the std devs are unknown.**                                                                                                                                                                                                                                                                                                                                                                                                                                                                                                                                                                                                                                                                                                                                                                   "
      ],
      "id": "2c183cd7"
    },
    {
      "cell_type": "markdown",
      "metadata": {
        "id": "3f58c9a7"
      },
      "source": [
        "### *Step 3: Deciding the significance level* "
      ],
      "id": "3f58c9a7"
    },
    {
      "cell_type": "markdown",
      "metadata": {
        "id": "92d7d7ee"
      },
      "source": [
        "Based on the problem statement, to determine the effectiveness of the new landing page in gathering new subscribers for the news portal,  we will perform a statistical analysis at a significance level of 5%:\n",
        " $\\alpha = 0.05$."
      ],
      "id": "92d7d7ee"
    },
    {
      "cell_type": "markdown",
      "metadata": {
        "id": "5fed2eac"
      },
      "source": [
        "### *Step 4: Collecting and preparing data* "
      ],
      "id": "5fed2eac"
    },
    {
      "cell_type": "markdown",
      "source": [
        "\n",
        "\n",
        "To ensure that our selected test, Two Independent Sample T-Test, meets the assumptions, we will run the necessary tests. "
      ],
      "metadata": {
        "id": "_c5MKGZsDupD"
      },
      "id": "_c5MKGZsDupD"
    },
    {
      "cell_type": "markdown",
      "source": [
        "**Shapiro-Wilk’s test**\n",
        "\n",
        "Shapiro_Wilk test is used to test for normality.\n",
        "\n",
        "We will test the null hypothesis\n",
        "\n",
        ">$H_0:$ The time spent on the page follow a normal distribution\n",
        "\n",
        "against the alternative hypothesis\n",
        "\n",
        ">$H_a:$ The time spent on the page do not follow a normal distribution"
      ],
      "metadata": {
        "id": "EdEGfkTQDZNL"
      },
      "id": "EdEGfkTQDZNL"
    },
    {
      "cell_type": "code",
      "source": [
        "\n",
        "# We will use the shapiro function for the scipy.stats library for this test\n",
        "w, p_value = stats.shapiro(df['time_spent_on_the_page']) \n",
        "print('The p-value is', p_value)"
      ],
      "metadata": {
        "colab": {
          "base_uri": "https://localhost:8080/"
        },
        "id": "YHzabeBFDFw1",
        "outputId": "f4d1868e-e7b4-4954-e607-b1fcb18dea88"
      },
      "id": "YHzabeBFDFw1",
      "execution_count": null,
      "outputs": [
        {
          "output_type": "stream",
          "name": "stdout",
          "text": [
            "The p-value is 0.5643684267997742\n"
          ]
        }
      ]
    },
    {
      "cell_type": "markdown",
      "source": [
        "**Observations**:\n",
        "\n",
        "Since p-value of the test is larger than the 5% significance level, we fail to reject the null hypothesis that the response follows the normal distribution."
      ],
      "metadata": {
        "id": "-m-ZhO8iEtgr"
      },
      "id": "-m-ZhO8iEtgr"
    },
    {
      "cell_type": "markdown",
      "source": [
        "**Comparing the standard deviation of the samples:**"
      ],
      "metadata": {
        "id": "XA9n01FaE3MD"
      },
      "id": "XA9n01FaE3MD"
    },
    {
      "cell_type": "code",
      "metadata": {
        "id": "f5a59495"
      },
      "source": [
        "# create subsetted data frame for new landing page users \n",
        "time_spent_new = df[df['landing_page'] == 'new']['time_spent_on_the_page']\n",
        "\n",
        "# create subsetted data frame for old landing page users\n",
        "time_spent_old = df[df['landing_page'] == 'old']['time_spent_on_the_page'] ##Complete the code"
      ],
      "id": "f5a59495",
      "execution_count": null,
      "outputs": []
    },
    {
      "cell_type": "code",
      "source": [
        "print('The sample standard deviation of the time spent on the new page is:', round(time_spent_new.std(),2))\n",
        "print('The sample standard deviation of the time spent on the new page is:', round(time_spent_old.std(),2))"
      ],
      "metadata": {
        "colab": {
          "base_uri": "https://localhost:8080/"
        },
        "id": "XMcy9wflFsKM",
        "outputId": "25ff35ff-e493-4fc4-f631-2a57200ce5ab"
      },
      "id": "XMcy9wflFsKM",
      "execution_count": null,
      "outputs": [
        {
          "output_type": "stream",
          "name": "stdout",
          "text": [
            "The sample standard deviation of the time spent on the new page is: 1.82\n",
            "The sample standard deviation of the time spent on the new page is: 2.58\n"
          ]
        }
      ]
    },
    {
      "cell_type": "markdown",
      "source": [
        "**Observations**:\n",
        "\n",
        "The results of the comparison showed unequal population standard deviations"
      ],
      "metadata": {
        "id": "Hp5wPTrwFplj"
      },
      "id": "Hp5wPTrwFplj"
    },
    {
      "cell_type": "markdown",
      "source": [
        "### **Let's summarize whether the T-test assumptions are satisfied or not:**\n",
        "\n",
        "**Continuous data** - Yes, the time spent data is measured on a continuous scale.\n",
        "\n",
        "**Normally distributed populations** - Since the sample sizes are greater than 30 (50 in each sample group), Central Limit Theorem states that the distribution of sample means will be normal. In addition, the test of Shapiro-Wilk's supported the claim of normality.  \n",
        "\n",
        "**Independent populations** - As we are taking random samples for two different groups, the two samples are from two independent populations.\n",
        "\n",
        "**Unequal population standard deviations** - As the sample standard deviations are different, the population standard deviations may be assumed to be different.\n",
        "\n",
        "**Random sampling from the population**  - Yes, we are informed that the collected sample a simple random sample.\n",
        "\n",
        "**We can use two sample T-test for this problem.**"
      ],
      "metadata": {
        "id": "LoJwok4I9pp7"
      },
      "id": "LoJwok4I9pp7"
    },
    {
      "cell_type": "markdown",
      "source": [
        "![image.png](data:image/png;base64,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)"
      ],
      "metadata": {
        "id": "--i5xOFdMLmw"
      },
      "id": "--i5xOFdMLmw"
    },
    {
      "cell_type": "markdown",
      "metadata": {
        "id": "f5c5258d"
      },
      "source": [
        "### *Step 5: Calculating the p-value*"
      ],
      "id": "f5c5258d"
    },
    {
      "cell_type": "code",
      "metadata": {
        "id": "fac8594a",
        "colab": {
          "base_uri": "https://localhost:8080/"
        },
        "outputId": "140f7bfd-628b-4a7e-e98b-1beb7dd51601"
      },
      "source": [
        "# We will run the code to import the required function\n",
        "from scipy.stats import ttest_ind\n",
        "\n",
        "# write the code to calculate the p-value\n",
        "test_stat, p_value =  ttest_ind(time_spent_new, time_spent_old, equal_var = False, alternative = 'greater') \n",
        "\n",
        "print('The p-value is', p_value)"
      ],
      "id": "fac8594a",
      "execution_count": null,
      "outputs": [
        {
          "output_type": "stream",
          "name": "stdout",
          "text": [
            "The p-value is 0.0001392381225166549\n"
          ]
        }
      ]
    },
    {
      "cell_type": "markdown",
      "metadata": {
        "id": "359b12f8"
      },
      "source": [
        "### Step 6: Comparing the p-value with $\\alpha$"
      ],
      "id": "359b12f8"
    },
    {
      "cell_type": "code",
      "metadata": {
        "id": "7be47289",
        "colab": {
          "base_uri": "https://localhost:8080/"
        },
        "outputId": "e9f5981e-1bf7-4a33-b6e2-83c79bb67847"
      },
      "source": [
        "# We will print the conclusion based on p-value\n",
        "if p_value < 0.05:\n",
        "    print(f'As the p-value {p_value} is less than the level of significance, we reject the null hypothesis.')\n",
        "else:\n",
        "    print(f'As the p-value {p_value} is greater than the level of significance, we fail to reject the null hypothesis.')"
      ],
      "id": "7be47289",
      "execution_count": null,
      "outputs": [
        {
          "output_type": "stream",
          "name": "stdout",
          "text": [
            "As the p-value 0.0001392381225166549 is less than the level of significance, we reject the null hypothesis.\n"
          ]
        }
      ]
    },
    {
      "cell_type": "markdown",
      "source": [
        "**Observations**:\n",
        "\n",
        "As the p-value (~0.00013) is much less than the level of significance  ($\\alpha = 0.05$.), we can reject the null hypothesis. Hence, we do have enough evidence to support the claim that users spent more time on the new landing page than on the existing page."
      ],
      "metadata": {
        "id": "gBozfPwsMWiO"
      },
      "id": "gBozfPwsMWiO"
    },
    {
      "cell_type": "markdown",
      "metadata": {
        "id": "d9affc84"
      },
      "source": [
        "### Step 7:  Drawing inference"
      ],
      "id": "d9affc84"
    },
    {
      "cell_type": "markdown",
      "metadata": {
        "id": "6b16dd4b"
      },
      "source": [
        "**Insights:**\n",
        "\n",
        "1. To test the alternative hypotheses that users spent more time on the new landing page than on the existing page, we used **Two Independent Sample T-test for Equality of Means - Unequal Std Dev**. \n",
        "2. All the T-Test assumptions were satisfied.\n",
        "3. The p-value (~0.00013) is much less than the level of significance ( α=0.05 .), we can reject the null hypothesis. Hence, we do have enough evidence to support the claim that users spent more time on the new landing page than on the existing page.\n",
        "\n",
        "**Conclusion**: The users spend more time on the new landing page than the existing landing page."
      ],
      "id": "6b16dd4b"
    },
    {
      "cell_type": "markdown",
      "metadata": {
        "id": "353e9d24"
      },
      "source": [
        "## **2. Is the conversion rate (the proportion of users who visit the landing page and get converted) for the new page greater than the conversion rate for the old page?**"
      ],
      "id": "353e9d24"
    },
    {
      "cell_type": "markdown",
      "source": [
        "### Visual Analysis "
      ],
      "metadata": {
        "id": "BDbBSQNFPyhU"
      },
      "id": "BDbBSQNFPyhU"
    },
    {
      "cell_type": "code",
      "source": [
        "# We can run the crosstab to see the rate of converted vs non-converted users in each group\n",
        "pd.crosstab(df['group'],df['converted'],normalize='index').plot(kind=\"bar\", figsize=(6,8),stacked=True)\n",
        "plt.legend()\n",
        "plt.show()"
      ],
      "metadata": {
        "colab": {
          "base_uri": "https://localhost:8080/",
          "height": 537
        },
        "id": "dC754vc8aZ3H",
        "outputId": "6b5b5f41-e34e-40b9-9b53-274c6c4384d2"
      },
      "id": "dC754vc8aZ3H",
      "execution_count": null,
      "outputs": [
        {
          "output_type": "display_data",
          "data": {
            "text/plain": [
              "<Figure size 432x576 with 1 Axes>"
            ],
            "image/png": "[encoded data removed]"
          },
          "metadata": {
            "needs_background": "light"
          }
        }
      ]
    },
    {
      "cell_type": "code",
      "source": [
        "# Let's create a variable to separate converted users (yes) from the 'converted' dataset:\n",
        "df_converted = df[df['converted'] == 'yes']\n",
        "# Next, we run the value count for the df_converted based on the landing page:\n",
        "df_converted['landing_page'].value_counts()"
      ],
      "metadata": {
        "colab": {
          "base_uri": "https://localhost:8080/"
        },
        "id": "WaOwsYLBQuqd",
        "outputId": "035f25ec-c30e-4f20-9fb8-7f67f5ef53b8"
      },
      "id": "WaOwsYLBQuqd",
      "execution_count": null,
      "outputs": [
        {
          "output_type": "execute_result",
          "data": {
            "text/plain": [
              "new    33\n",
              "old    21\n",
              "Name: landing_page, dtype: int64"
            ]
          },
          "metadata": {},
          "execution_count": 120
        }
      ]
    },
    {
      "cell_type": "code",
      "source": [
        "# It will help to run the value count as percentage for the number of converted users:\n",
        "df_converted['landing_page'].value_counts(normalize=True)"
      ],
      "metadata": {
        "colab": {
          "base_uri": "https://localhost:8080/"
        },
        "id": "PEUc9a2lQoWN",
        "outputId": "bd88860e-4741-411e-b247-b2e9b357e31b"
      },
      "id": "PEUc9a2lQoWN",
      "execution_count": null,
      "outputs": [
        {
          "output_type": "execute_result",
          "data": {
            "text/plain": [
              "new    0.611111\n",
              "old    0.388889\n",
              "Name: landing_page, dtype: float64"
            ]
          },
          "metadata": {},
          "execution_count": 121
        }
      ]
    },
    {
      "cell_type": "code",
      "metadata": {
        "id": "b7f52898",
        "colab": {
          "base_uri": "https://localhost:8080/",
          "height": 400
        },
        "outputId": "ed2df1c7-ad50-431a-eb2d-e91a90a8d1bb"
      },
      "source": [
        "# To visualize the data, we can create a countplot \n",
        "plt.figure(figsize = (8,6))\n",
        "sns.countplot(data = df_converted, x = 'landing_page', palette='PuRd'); \n",
        "plt.xticks(rotation=90)\n",
        "plt.show()"
      ],
      "id": "b7f52898",
      "execution_count": null,
      "outputs": [
        {
          "output_type": "display_data",
          "data": {
            "text/plain": [
              "<Figure size 576x432 with 1 Axes>"
            ],
            "image/png": "[encoded data removed]"
          },
          "metadata": {
            "needs_background": "light"
          }
        }
      ]
    },
    {
      "cell_type": "markdown",
      "source": [
        "**Observations:**\n",
        "\n",
        "* Number of converted users in the treatment group is greated than in the control group.\n",
        "\n",
        "*   The number of users assigned to Old and New landing pages was equal=50 in each group.\n",
        "*   The visual analysis showed that out of 50 users of the new landing page, 33/61% converted to a subscriber. Out of 50 users of the old landing page, 21/38% converted to a subscriber, which is lower than the converted status on the new page users. "
      ],
      "metadata": {
        "id": "-fEMwWz0RSMl"
      },
      "id": "-fEMwWz0RSMl"
    },
    {
      "cell_type": "markdown",
      "source": [
        "### *Step 1: Defining the null and alternate hypotheses*\n",
        "\n",
        "\n"
      ],
      "metadata": {
        "id": "f7Lla0ttT8TX"
      },
      "id": "f7Lla0ttT8TX"
    },
    {
      "cell_type": "markdown",
      "source": [
        "\n",
        "- 'convertion rate' and 'landing page' are two categorical variables.\n",
        "- We want to see if the proportion of converted users of the new landing page is significantly greater from the proportion of converted users of the existing landing page population\n",
        "\n",
        "**The null and alternative hypotheses for this case can be formulated as follows:**\n",
        "\n",
        "\n",
        "\n",
        "$H_0$: The proportion of converted users of the new landing page is equal to the proportion of converted users of the existing page.\n",
        "\n",
        "$H_a$: The proportion of converted users of the new landing page is greater than the proportion of converted users of the existing page."
      ],
      "metadata": {
        "id": "rm-qyzloUJHU"
      },
      "id": "rm-qyzloUJHU"
    },
    {
      "cell_type": "markdown",
      "source": [
        "**Let's write the null and alternative hypothesis**:\n",
        "\n",
        "\n",
        "Let $p_1,p_2$ be the proportions of converted users in the **New Landing Page** (Treatment Group) and **Existing Landing Page** (Control Group) respectively.\n",
        "\n",
        "We will test the null hypothesis\n",
        "\n",
        ">$H_0:p_1 =p_2$\n",
        "\n",
        "against the alternate hypothesis\n",
        "\n",
        ">$H_a:p_1 > p_2$"
      ],
      "metadata": {
        "id": "OqoNIviiVMIW"
      },
      "id": "OqoNIviiVMIW"
    },
    {
      "cell_type": "markdown",
      "source": [
        "### *Step 2: Selecting Appropriate test*"
      ],
      "metadata": {
        "id": "OU3HhVKaXJcm"
      },
      "id": "OU3HhVKaXJcm"
    },
    {
      "cell_type": "markdown",
      "source": [
        "This is a one-tailed test concerning two population proportions from two independent populations.To compare the sample proportions from two populations **Two Sample (Proportion) Z-Test** will be the most appropriate test."
      ],
      "metadata": {
        "id": "gFCo7heOXdA3"
      },
      "id": "gFCo7heOXdA3"
    },
    {
      "cell_type": "markdown",
      "source": [
        "### *Step 3: Deciding the significance level*\n",
        "\n",
        "\n",
        "\n"
      ],
      "metadata": {
        "id": "BEi8KcNeZQQN"
      },
      "id": "BEi8KcNeZQQN"
    },
    {
      "cell_type": "markdown",
      "source": [
        "Based on the problem statement, to determine the effectiveness of the new landing page in gathering new subscribers for the news portal,  we will perform a statistical analysis at a significance level of 5%:\n",
        " $\\alpha = 0.05$."
      ],
      "metadata": {
        "id": "LA4tgipNZVjH"
      },
      "id": "LA4tgipNZVjH"
    },
    {
      "cell_type": "markdown",
      "source": [
        "### *Step 4: Collecting and preparing data* "
      ],
      "metadata": {
        "id": "INt-l9SiZcCX"
      },
      "id": "INt-l9SiZcCX"
    },
    {
      "cell_type": "code",
      "source": [
        "n_control = df.group.value_counts()['control'] # total number of users in the control group\n",
        "n_treatment = df.group.value_counts()['treatment'] # total number of users in the treatment group\n",
        "\n",
        "print('The numbers of users were served the new and old pages as {0} and {1} respectively'.format(n_control, n_treatment ))"
      ],
      "metadata": {
        "colab": {
          "base_uri": "https://localhost:8080/"
        },
        "id": "Fz48D56lZrWu",
        "outputId": "b0446c61-8c44-4899-e690-e66d8bf26387"
      },
      "id": "Fz48D56lZrWu",
      "execution_count": null,
      "outputs": [
        {
          "output_type": "stream",
          "name": "stdout",
          "text": [
            "The numbers of users were served the new and old pages as 50 and 50 respectively\n"
          ]
        }
      ]
    },
    {
      "cell_type": "code",
      "source": [
        "# calculating the number of converted users in the treatment group\n",
        "new_converted = df[df['group'] == 'treatment']['converted'].value_counts()['yes']\n",
        "# calculating the number of converted users in the control group\n",
        "old_converted = df[df['group'] == 'control']['converted'].value_counts()['yes'] \n",
        "print('The numbers of users who converted in each group are {0} and {1} respectively'.format(new_converted, old_converted ))"
      ],
      "metadata": {
        "colab": {
          "base_uri": "https://localhost:8080/"
        },
        "id": "Ruu8pTiwcmTk",
        "outputId": "77f7abb9-5112-4e0a-d5e4-8fa9bc000cdc"
      },
      "id": "Ruu8pTiwcmTk",
      "execution_count": null,
      "outputs": [
        {
          "output_type": "stream",
          "name": "stdout",
          "text": [
            "The numbers of users who converted in each group are 33 and 21 respectively\n"
          ]
        }
      ]
    },
    {
      "cell_type": "markdown",
      "source": [
        "  - **Let's test whether the Z-test assumptions are satisfied or not**:\n",
        "\n",
        "\n",
        "**Binomally distributed population** - Yes, the group is either converted (yes) or non-converted (no).\n",
        "\n",
        "**Independent populations **- Yes, the two sample groups are independent.\n",
        "\n",
        "**Random sampling from the population** - Yes, we are informed that the  sample is a simple random sample.\n",
        "\n",
        "**Can the binomial distribution approximated to normal distribution** - Yes. For binary data, CLT works slower than usual. The standard thing is to check whether np and n(1-p) are greater than or equal to 10. Here, n and p refer to the sample size and sample proportion respectively.\n",
        "\n",
        ">$np_1 = 50\\cdot \\frac{33}{50} =33 \\geq 10\\\\\n",
        "n(1-p_1) = 50 \\cdot \\frac{50-33}{50} =17 \\geq 10 \\\\\n",
        "np_2 = 50\\cdot \\frac{21}{50} =21 \\geq 10\\\\\n",
        "n(1-p_2) = 50\\cdot \\frac{50-21}{50} =29 \\geq 10 $\n",
        "\n",
        "**The Z-test assumptions are all satisfied.**\n"
      ],
      "metadata": {
        "id": "iKT6pAGPdRp_"
      },
      "id": "iKT6pAGPdRp_"
    },
    {
      "cell_type": "markdown",
      "source": [
        "![image.png](data:image/png;base64,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)"
      ],
      "metadata": {
        "id": "G-3WT3G9Lrux"
      },
      "id": "G-3WT3G9Lrux"
    },
    {
      "cell_type": "markdown",
      "source": [
        "### *Step 5: Calculating the p-value*"
      ],
      "metadata": {
        "id": "pO-81-3Ipi7Q"
      },
      "id": "pO-81-3Ipi7Q"
    },
    {
      "cell_type": "code",
      "source": [
        "# We will run the code to import the required function\n",
        "from statsmodels.stats.proportion import proportions_ztest   \n",
        "\n",
        "# write the code to calculate the p-value\n",
        "test_stat, p_value = proportions_ztest([new_converted, old_converted] , [n_treatment, n_control], alternative ='larger')   \n",
        "\n",
        "\n",
        "print('The p-value is', p_value)"
      ],
      "metadata": {
        "colab": {
          "base_uri": "https://localhost:8080/"
        },
        "id": "1SK_3-ZC7QfY",
        "outputId": "b9829d76-6a27-4429-e8cb-97a2f39a7ae1"
      },
      "id": "1SK_3-ZC7QfY",
      "execution_count": null,
      "outputs": [
        {
          "output_type": "stream",
          "name": "stdout",
          "text": [
            "The p-value is 0.008026308204056278\n"
          ]
        }
      ]
    },
    {
      "cell_type": "markdown",
      "source": [
        "### *Step 6: Comparing the p-value with  α*"
      ],
      "metadata": {
        "id": "h2xoXJaP92CC"
      },
      "id": "h2xoXJaP92CC"
    },
    {
      "cell_type": "code",
      "source": [
        "# We will print the conclusion based on p-value\n",
        "if p_value < 0.05:\n",
        "    print(f'As the p-value {p_value} is less than the level of significance, we reject the null hypothesis.')\n",
        "else:\n",
        "    print(f'As the p-value {p_value} is greater than the level of significance, we fail to reject the null hypothesis.')"
      ],
      "metadata": {
        "colab": {
          "base_uri": "https://localhost:8080/"
        },
        "id": "yyZp01459qzv",
        "outputId": "23e3e4c4-4b21-4e98-a9d3-612d5b65cb15"
      },
      "id": "yyZp01459qzv",
      "execution_count": null,
      "outputs": [
        {
          "output_type": "stream",
          "name": "stdout",
          "text": [
            "As the p-value 0.008026308204056278 is less than the level of significance, we reject the null hypothesis.\n"
          ]
        }
      ]
    },
    {
      "cell_type": "markdown",
      "source": [
        "**Observations:**\n",
        "\n",
        "As the p-value (~0.008) is less than the level of significance ( α=0.05 .), we can reject the null hypothesis. Hence, we do have enough evidence to support the claim that the proportion of converted users of the new landing page is larger than the proportion of converted users of the existing page."
      ],
      "metadata": {
        "id": "IM3LyUZi-urZ"
      },
      "id": "IM3LyUZi-urZ"
    },
    {
      "cell_type": "markdown",
      "source": [
        "### Step 7:  Drawing inference\n",
        "\n",
        "\n",
        "\n"
      ],
      "metadata": {
        "id": "IkXSZcrFEgAr"
      },
      "id": "IkXSZcrFEgAr"
    },
    {
      "cell_type": "markdown",
      "source": [
        "**Insights:**\n",
        "\n",
        "1. To test the alternative hypotheses that the proportion of converted users of the new landing page is larger than the proportion of converted users of the existing page, we used **Two Sample (Proportion) Z-Test**. \n",
        "2. All the Z-Test assumptions were satisfied.\n",
        "3. The p-value (~0.008) is less than the level of significance ( α=0.05 .), we can reject the null hypothesis. Hence, we do have enough evidence to support the claim that the proportion of converted users of the new landing page is larger than the proportion of converted users of the existing page.\n",
        "\n",
        "**Conclusion:** The conversion rate for the new page is greater than the conversion rate for the old page."
      ],
      "metadata": {
        "id": "S3PXF14TE2rY"
      },
      "id": "S3PXF14TE2rY"
    },
    {
      "cell_type": "markdown",
      "metadata": {
        "id": "d49bfa2d"
      },
      "source": [
        "## **3. Is the conversion and preferred language are independent or related?**"
      ],
      "id": "d49bfa2d"
    },
    {
      "cell_type": "markdown",
      "source": [
        "### *Visual Analysis*"
      ],
      "metadata": {
        "id": "we-3u6PxHKvR"
      },
      "id": "we-3u6PxHKvR"
    },
    {
      "cell_type": "code",
      "metadata": {
        "id": "b0e63f17",
        "colab": {
          "base_uri": "https://localhost:8080/"
        },
        "outputId": "363a0f38-fe76-4f8d-d2fe-880d2be2f1bc"
      },
      "source": [
        "# We can visually plot the dependency between conversion status and preferred language:\n",
        "pd.crosstab(df['converted'],df['language_preferred'],normalize='index').plot(kind=\"bar\", figsize=(6,8), stacked=True)\n",
        "plt.legend()\n",
        "plt.show()"
      ],
      "id": "b0e63f17",
      "execution_count": null,
      "outputs": [
        {
          "output_type": "display_data",
          "data": {
            "text/plain": [
              "<Figure size 432x576 with 1 Axes>"
            ],
            "image/png": "[encoded data removed]"
          },
          "metadata": {
            "needs_background": "light"
          }
        }
      ]
    },
    {
      "cell_type": "code",
      "source": [
        "# We will create a variable to separate converted (yes) from the 'converted'data:\n",
        "df_converted = df[df['converted'] == 'yes']\n",
        "# Next, we run the value count for the df_converted data based on the language preferred:\n",
        "df_converted['language_preferred'].value_counts()"
      ],
      "metadata": {
        "colab": {
          "base_uri": "https://localhost:8080/"
        },
        "id": "eND3hzGdIgE8",
        "outputId": "2add19fd-9dce-4950-b6c0-4e9b17852d5a"
      },
      "id": "eND3hzGdIgE8",
      "execution_count": null,
      "outputs": [
        {
          "output_type": "execute_result",
          "data": {
            "text/plain": [
              "English    21\n",
              "Spanish    18\n",
              "French     15\n",
              "Name: language_preferred, dtype: int64"
            ]
          },
          "metadata": {},
          "execution_count": 128
        }
      ]
    },
    {
      "cell_type": "code",
      "source": [
        "# We can also run the value count as a percentage:\n",
        "df_converted['language_preferred'].value_counts(normalize=True)"
      ],
      "metadata": {
        "colab": {
          "base_uri": "https://localhost:8080/"
        },
        "id": "njhsXgheH2pB",
        "outputId": "65251f41-94eb-4e2e-e9ff-03452b806a89"
      },
      "id": "njhsXgheH2pB",
      "execution_count": null,
      "outputs": [
        {
          "output_type": "execute_result",
          "data": {
            "text/plain": [
              "English    0.388889\n",
              "Spanish    0.333333\n",
              "French     0.277778\n",
              "Name: language_preferred, dtype: float64"
            ]
          },
          "metadata": {},
          "execution_count": 129
        }
      ]
    },
    {
      "cell_type": "code",
      "source": [
        "# To visualize the data, we can create a countplot \n",
        "plt.figure(figsize = (8,6))\n",
        "sns.countplot(data = df_converted, x = 'language_preferred',palette='OrRd'); \n",
        "plt.xticks(rotation=90)\n",
        "plt.show()"
      ],
      "metadata": {
        "colab": {
          "base_uri": "https://localhost:8080/"
        },
        "id": "OeL_Nwj0H9X6",
        "outputId": "6df8d058-6f32-4a2c-a7ff-500442333445"
      },
      "id": "OeL_Nwj0H9X6",
      "execution_count": null,
      "outputs": [
        {
          "output_type": "display_data",
          "data": {
            "text/plain": [
              "<Figure size 576x432 with 1 Axes>"
            ],
            "image/png": "[encoded data removed]"
          },
          "metadata": {
            "needs_background": "light"
          }
        }
      ]
    },
    {
      "cell_type": "markdown",
      "source": [
        "**Observations:**\n",
        "\n",
        "From the analysis of the visual data we can see that users with language preferred as English have higher conversion rate (38%) than the users with language preferred as Spanish (33%) or French (27%)."
      ],
      "metadata": {
        "id": "xLcwHxUxI08R"
      },
      "id": "xLcwHxUxI08R"
    },
    {
      "cell_type": "markdown",
      "source": [
        "### *Step 1: Defining the null and alternate hypotheses*"
      ],
      "metadata": {
        "id": "M0mvPAWDcMEq"
      },
      "id": "M0mvPAWDcMEq"
    },
    {
      "cell_type": "markdown",
      "source": [
        "\n",
        "- 'convertion rate' and 'preferred language' are two categorical variables.\n",
        "- We want to see if the conversion reate and preferred language are independent or related.\n",
        "\n",
        "**The null and alternative hypotheses for this case can be formulated as follows:**\n",
        "\n",
        "\n",
        "\n",
        "$H_0$: Conversion rate is independent of preferred language.\n",
        "\n",
        "$H_a$: Conversion rate depends on preferred language."
      ],
      "metadata": {
        "id": "xlETyJ3DcWEq"
      },
      "id": "xlETyJ3DcWEq"
    },
    {
      "cell_type": "markdown",
      "source": [
        "### *Step 2: Selecting Appropriate test*"
      ],
      "metadata": {
        "id": "bE972UdgcAq-"
      },
      "id": "bE972UdgcAq-"
    },
    {
      "cell_type": "markdown",
      "source": [
        "This is a problem of the test of independence, concerning two categorical variables - converted status and preferred language. Based on this, **Chi-square test of independence** will be the appropriate test to use."
      ],
      "metadata": {
        "id": "vabtOY-Mezm1"
      },
      "id": "vabtOY-Mezm1"
    },
    {
      "cell_type": "markdown",
      "source": [
        "### *Step 3: Deciding the significance level*"
      ],
      "metadata": {
        "id": "ZuLdCHpgejvt"
      },
      "id": "ZuLdCHpgejvt"
    },
    {
      "cell_type": "markdown",
      "source": [
        "Based on the problem statement, to determine the effectiveness of the new landing page in gathering new subscribers for the news portal, we will perform a statistical analysis at a significance level of 5%:  α=0.05 ."
      ],
      "metadata": {
        "id": "O7Kn-ouVebMo"
      },
      "id": "O7Kn-ouVebMo"
    },
    {
      "cell_type": "markdown",
      "source": [
        "### *Step 4: Collecting and preparing data* "
      ],
      "metadata": {
        "id": "q9YA_ulIf9ir"
      },
      "id": "q9YA_ulIf9ir"
    },
    {
      "cell_type": "code",
      "source": [
        "# We will run the code to create a contingency table showing the distribution of the two categorical variables\n",
        "from scipy.stats import chi2_contingency\n",
        "contingency_table = pd.crosstab(df['converted'], df['language_preferred'])  \n",
        "\n",
        "contingency_table"
      ],
      "metadata": {
        "colab": {
          "base_uri": "https://localhost:8080/",
          "height": 143
        },
        "id": "FDy84FGugEn_",
        "outputId": "e39cf4d4-5213-4734-bd19-a0677d32b756"
      },
      "id": "FDy84FGugEn_",
      "execution_count": null,
      "outputs": [
        {
          "output_type": "execute_result",
          "data": {
            "text/plain": [
              "language_preferred  English  French  Spanish\n",
              "converted                                   \n",
              "no                       11      19       16\n",
              "yes                      21      15       18"
            ],
            "text/html": [
              "\n",
              "  <div id=\"df-ee319541-8106-4f41-a6b5-863af1aac3e6\">\n",
              "    <div class=\"colab-df-container\">\n",
              "      <div>\n",
              "<style scoped>\n",
              "    .dataframe tbody tr th:only-of-type {\n",
              "        vertical-align: middle;\n",
              "    }\n",
              "\n",
              "    .dataframe tbody tr th {\n",
              "        vertical-align: top;\n",
              "    }\n",
              "\n",
              "    .dataframe thead th {\n",
              "        text-align: right;\n",
              "    }\n",
              "</style>\n",
              "<table border=\"1\" class=\"dataframe\">\n",
              "  <thead>\n",
              "    <tr style=\"text-align: right;\">\n",
              "      <th>language_preferred</th>\n",
              "      <th>English</th>\n",
              "      <th>French</th>\n",
              "      <th>Spanish</th>\n",
              "    </tr>\n",
              "    <tr>\n",
              "      <th>converted</th>\n",
              "      <th></th>\n",
              "      <th></th>\n",
              "      <th></th>\n",
              "    </tr>\n",
              "  </thead>\n",
              "  <tbody>\n",
              "    <tr>\n",
              "      <th>no</th>\n",
              "      <td>11</td>\n",
              "      <td>19</td>\n",
              "      <td>16</td>\n",
              "    </tr>\n",
              "    <tr>\n",
              "      <th>yes</th>\n",
              "      <td>21</td>\n",
              "      <td>15</td>\n",
              "      <td>18</td>\n",
              "    </tr>\n",
              "  </tbody>\n",
              "</table>\n",
              "</div>\n",
              "      <button class=\"colab-df-convert\" onclick=\"convertToInteractive('df-ee319541-8106-4f41-a6b5-863af1aac3e6')\"\n",
              "              title=\"Convert this dataframe to an interactive table.\"\n",
              "              style=\"display:none;\">\n",
              "        \n",
              "  <svg xmlns=\"http://www.w3.org/2000/svg\" height=\"24px\"viewBox=\"0 0 24 24\"\n",
              "       width=\"24px\">\n",
              "    <path d=\"M0 0h24v24H0V0z\" fill=\"none\"/>\n",
              "    <path d=\"M18.56 5.44l.94 2.06.94-2.06 2.06-.94-2.06-.94-.94-2.06-.94 2.06-2.06.94zm-11 1L8.5 8.5l.94-2.06 2.06-.94-2.06-.94L8.5 2.5l-.94 2.06-2.06.94zm10 10l.94 2.06.94-2.06 2.06-.94-2.06-.94-.94-2.06-.94 2.06-2.06.94z\"/><path d=\"M17.41 7.96l-1.37-1.37c-.4-.4-.92-.59-1.43-.59-.52 0-1.04.2-1.43.59L10.3 9.45l-7.72 7.72c-.78.78-.78 2.05 0 2.83L4 21.41c.39.39.9.59 1.41.59.51 0 1.02-.2 1.41-.59l7.78-7.78 2.81-2.81c.8-.78.8-2.07 0-2.86zM5.41 20L4 18.59l7.72-7.72 1.47 1.35L5.41 20z\"/>\n",
              "  </svg>\n",
              "      </button>\n",
              "      \n",
              "  <style>\n",
              "    .colab-df-container {\n",
              "      display:flex;\n",
              "      flex-wrap:wrap;\n",
              "      gap: 12px;\n",
              "    }\n",
              "\n",
              "    .colab-df-convert {\n",
              "      background-color: #E8F0FE;\n",
              "      border: none;\n",
              "      border-radius: 50%;\n",
              "      cursor: pointer;\n",
              "      display: none;\n",
              "      fill: #1967D2;\n",
              "      height: 32px;\n",
              "      padding: 0 0 0 0;\n",
              "      width: 32px;\n",
              "    }\n",
              "\n",
              "    .colab-df-convert:hover {\n",
              "      background-color: #E2EBFA;\n",
              "      box-shadow: 0px 1px 2px rgba(60, 64, 67, 0.3), 0px 1px 3px 1px rgba(60, 64, 67, 0.15);\n",
              "      fill: #174EA6;\n",
              "    }\n",
              "\n",
              "    [theme=dark] .colab-df-convert {\n",
              "      background-color: #3B4455;\n",
              "      fill: #D2E3FC;\n",
              "    }\n",
              "\n",
              "    [theme=dark] .colab-df-convert:hover {\n",
              "      background-color: #434B5C;\n",
              "      box-shadow: 0px 1px 3px 1px rgba(0, 0, 0, 0.15);\n",
              "      filter: drop-shadow(0px 1px 2px rgba(0, 0, 0, 0.3));\n",
              "      fill: #FFFFFF;\n",
              "    }\n",
              "  </style>\n",
              "\n",
              "      <script>\n",
              "        const buttonEl =\n",
              "          document.querySelector('#df-ee319541-8106-4f41-a6b5-863af1aac3e6 button.colab-df-convert');\n",
              "        buttonEl.style.display =\n",
              "          google.colab.kernel.accessAllowed ? 'block' : 'none';\n",
              "\n",
              "        async function convertToInteractive(key) {\n",
              "          const element = document.querySelector('#df-ee319541-8106-4f41-a6b5-863af1aac3e6');\n",
              "          const dataTable =\n",
              "            await google.colab.kernel.invokeFunction('convertToInteractive',\n",
              "                                                     [key], {});\n",
              "          if (!dataTable) return;\n",
              "\n",
              "          const docLinkHtml = 'Like what you see? Visit the ' +\n",
              "            '<a target=\"_blank\" href=https://colab.research.google.com/notebooks/data_table.ipynb>data table notebook</a>'\n",
              "            + ' to learn more about interactive tables.';\n",
              "          element.innerHTML = '';\n",
              "          dataTable['output_type'] = 'display_data';\n",
              "          await google.colab.output.renderOutput(dataTable, element);\n",
              "          const docLink = document.createElement('div');\n",
              "          docLink.innerHTML = docLinkHtml;\n",
              "          element.appendChild(docLink);\n",
              "        }\n",
              "      </script>\n",
              "    </div>\n",
              "  </div>\n",
              "  "
            ]
          },
          "metadata": {},
          "execution_count": 131
        }
      ]
    },
    {
      "cell_type": "markdown",
      "source": [
        "**Let's test whether the Chi-square test of independence assumptions are satisfied or not:**\n",
        "\n",
        "**Categorical variables** - Yes, both tested variables are categorical: converted (yes/no), language preferred (English, French, Spanish).\n",
        "\n",
        "\n",
        "**Expected value of the number of sample observations in each level of the variable is at least 5** - Yes, the number of observations in each level is greater than 5.\n",
        "\n",
        "\n",
        "**Random sampling from the population** - Yes, we are informed that the collected sample is a simple random sample.\n",
        "\n",
        "**The Chi-square test of independence assumptions are all satisfied.**"
      ],
      "metadata": {
        "id": "gD0ZAITvJ1CC"
      },
      "id": "gD0ZAITvJ1CC"
    },
    {
      "cell_type": "markdown",
      "source": [
        "![image.png](data:image/png;base64,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)"
      ],
      "metadata": {
        "id": "_D89qKEuLTbi"
      },
      "id": "_D89qKEuLTbi"
    },
    {
      "cell_type": "markdown",
      "source": [
        "### *Step 5: Calculating the p-value*"
      ],
      "metadata": {
        "id": "ucHxYz4kM8yH"
      },
      "id": "ucHxYz4kM8yH"
    },
    {
      "cell_type": "code",
      "source": [
        "# We will run the code to import the required function\n",
        "from scipy.stats import chi2_contingency \n",
        "\n",
        "# write the code to calculate the p-value\n",
        "chi2, p_value, dof, exp_freq = chi2_contingency(contingency_table)   \n",
        "\n",
        "print('The p-value is', p_value)"
      ],
      "metadata": {
        "colab": {
          "base_uri": "https://localhost:8080/"
        },
        "id": "HVaRfA_lNBLE",
        "outputId": "52a6afa1-eb69-488a-f683-5fef2926e2d9"
      },
      "id": "HVaRfA_lNBLE",
      "execution_count": null,
      "outputs": [
        {
          "output_type": "stream",
          "name": "stdout",
          "text": [
            "The p-value is 0.21298887487543447\n"
          ]
        }
      ]
    },
    {
      "cell_type": "markdown",
      "source": [
        "### *Step 6: Comparing the p-value with  α*"
      ],
      "metadata": {
        "id": "SX8b4jtIODLs"
      },
      "id": "SX8b4jtIODLs"
    },
    {
      "cell_type": "code",
      "source": [
        "# We will print the conclusion based on p-value\n",
        "if p_value < 0.05:\n",
        "    print(f'As the p-value {p_value} is less than the level of significance, we reject the null hypothesis.')\n",
        "else:\n",
        "    print(f'As the p-value {p_value} is greater than the level of significance, we fail to reject the null hypothesis.')"
      ],
      "metadata": {
        "colab": {
          "base_uri": "https://localhost:8080/"
        },
        "id": "vb24oxr-N5pR",
        "outputId": "aea36a9b-bed8-4dc6-b969-a874fe400e69"
      },
      "id": "vb24oxr-N5pR",
      "execution_count": null,
      "outputs": [
        {
          "output_type": "stream",
          "name": "stdout",
          "text": [
            "As the p-value 0.21298887487543447 is greater than the level of significance, we fail to reject the null hypothesis.\n"
          ]
        }
      ]
    },
    {
      "cell_type": "markdown",
      "source": [
        "### Step 7:  Drawing inference"
      ],
      "metadata": {
        "id": "11KP_-sEQ052"
      },
      "id": "11KP_-sEQ052"
    },
    {
      "cell_type": "markdown",
      "source": [
        "**Insights:**\n",
        "\n",
        "1. To test the alternative hypotheses that conversion rate depends on preferred language,we used **Chi-square test of independence**. \n",
        "2. All the Chi-square test of independence assumptions were satisfied.\n",
        "3. The p-value (~0.212) is greater than the level of significance ( α=0.05 .), we fail to reject the null hypothesis. Hence, we do not have enough evidence to support the claim that that conversion rate depends on preferred language.\n",
        "\n",
        "**Conclusion:** The conversion to subscriber rate of users is independent from the preferred language: English, Spanish or French."
      ],
      "metadata": {
        "id": "929tnbucQ8Vw"
      },
      "id": "929tnbucQ8Vw"
    },
    {
      "cell_type": "markdown",
      "metadata": {
        "id": "8d585a90"
      },
      "source": [
        "## **4. Is the time spent on the new page same for the different language users?**"
      ],
      "id": "8d585a90"
    },
    {
      "cell_type": "markdown",
      "source": [
        "### *Visual Analysis*"
      ],
      "metadata": {
        "id": "L5oBPfIjSgXl"
      },
      "id": "L5oBPfIjSgXl"
    },
    {
      "cell_type": "code",
      "metadata": {
        "id": "b422f395"
      },
      "source": [
        "# We will create a new DataFrame for users who got served the new page\n",
        "df_new = df[df['landing_page'] == 'new']"
      ],
      "id": "b422f395",
      "execution_count": null,
      "outputs": []
    },
    {
      "cell_type": "code",
      "source": [
        "# complete the code to visually plot the time spent on the new page for different language users\n",
        "plt.figure(figsize=(8,8))\n",
        "sns.boxplot(x = 'language_preferred', y = 'time_spent_on_the_page', showmeans = True, data = df_new,palette='BuGn')\n",
        "plt.show()"
      ],
      "metadata": {
        "colab": {
          "base_uri": "https://localhost:8080/",
          "height": 498
        },
        "id": "PP2TosSxSo5U",
        "outputId": "51d3f8e8-3843-43c9-c3d1-c45555ce3962"
      },
      "id": "PP2TosSxSo5U",
      "execution_count": null,
      "outputs": [
        {
          "output_type": "display_data",
          "data": {
            "text/plain": [
              "<Figure size 576x576 with 1 Axes>"
            ],
            "image/png": "[encoded data removed]"
          },
          "metadata": {
            "needs_background": "light"
          }
        }
      ]
    },
    {
      "cell_type": "code",
      "source": [
        "# complete the code to calculate the mean time spent on the new page for different language users\n",
        "df_new.groupby(['language_preferred'])['time_spent_on_the_page'].mean()"
      ],
      "metadata": {
        "colab": {
          "base_uri": "https://localhost:8080/"
        },
        "id": "h_1JWuVPUooE",
        "outputId": "e3581e23-7dc7-4ea5-e926-57100f77c264"
      },
      "id": "h_1JWuVPUooE",
      "execution_count": null,
      "outputs": [
        {
          "output_type": "execute_result",
          "data": {
            "text/plain": [
              "language_preferred\n",
              "English    6.663750\n",
              "French     6.196471\n",
              "Spanish    5.835294\n",
              "Name: time_spent_on_the_page, dtype: float64"
            ]
          },
          "metadata": {},
          "execution_count": 136
        }
      ]
    },
    {
      "cell_type": "markdown",
      "source": [
        "**Observations:**\n",
        "\n",
        "* From the overall observations of the boxplot visual we can see that time spent on the new landing page for different language preferences are not very same. Spanish and French language groups have some outliers, with Spanish outlier to be below the minimum time spent (around 2 minutes) and French outlier being above the maximum time spent level (9 minutes). \n",
        "\n",
        "*   From the mean comparisons of time spent on the new landing page grouped by language preferred we can see that English language users have the highest mean of 6.6 minutes, compared to French - 6.1 minutes, and Spanish - 5.8 minutes."
      ],
      "metadata": {
        "id": "PNhzMVHlawhg"
      },
      "id": "PNhzMVHlawhg"
    },
    {
      "cell_type": "markdown",
      "source": [
        "### *Step 1: Defining the null and alternate hypotheses*"
      ],
      "metadata": {
        "id": "Va_F6W1UeuQo"
      },
      "id": "Va_F6W1UeuQo"
    },
    {
      "cell_type": "markdown",
      "source": [
        "- We will be comparing the means of three different population.\n",
        "- We will be testing if the time spent on the new page is same for the different language users.\n",
        "\n",
        "**The null and alternative hypotheses for this case can be formulated as follows:**\n",
        "\n",
        "\n",
        "\n",
        "$H_0$: Time spent on the new page is same for the different language users.\n",
        "\n",
        "$H_a$: Time spent on the new page is not same for the different language users."
      ],
      "metadata": {
        "id": "w5JPhQwCjHJi"
      },
      "id": "w5JPhQwCjHJi"
    },
    {
      "cell_type": "markdown",
      "source": [
        "\n",
        "Let $\\mu_1, \\mu_2, \\mu_3$ be the means of time spent on the new page for three groups of preferred language: English, Spanish, French respectively.\n",
        "\n",
        "We will test the null hypothesis\n",
        "\n",
        ">$H_0: \\mu_1 = \\mu_2 = \\mu_3$\n",
        "\n",
        "against the alternative hypothesis\n",
        "\n",
        ">$H_a: $ Time spent on the new page is not same for the different language users/ At least one mean is different from the rest."
      ],
      "metadata": {
        "id": "h2_FahkUoWLY"
      },
      "id": "h2_FahkUoWLY"
    },
    {
      "cell_type": "markdown",
      "source": [
        "### *Step 2: Selecting Appropriate test*"
      ],
      "metadata": {
        "id": "qby79LuJe78Q"
      },
      "id": "qby79LuJe78Q"
    },
    {
      "cell_type": "markdown",
      "source": [
        "This is a problem that includes more than two sample populations and more than two population means. Based on this, **One-Way ANOVA** test will be the appropriate test to use."
      ],
      "metadata": {
        "id": "VcuOD7Icp1UP"
      },
      "id": "VcuOD7Icp1UP"
    },
    {
      "cell_type": "markdown",
      "source": [
        "### *Step 3: Deciding the significance level*"
      ],
      "metadata": {
        "id": "TaAkxWLhfJYY"
      },
      "id": "TaAkxWLhfJYY"
    },
    {
      "cell_type": "markdown",
      "source": [
        "Based on the problem statement, to determine the effectiveness of the new landing page in gathering new subscribers for the news portal, we will perform a statistical analysis at a significance level of 5%:  α=0.05 ."
      ],
      "metadata": {
        "id": "uBkhD-AQrZYx"
      },
      "id": "uBkhD-AQrZYx"
    },
    {
      "cell_type": "markdown",
      "source": [
        "### *Step 4: Collecting and preparing data* "
      ],
      "metadata": {
        "id": "6S7CaMNprjlw"
      },
      "id": "6S7CaMNprjlw"
    },
    {
      "cell_type": "code",
      "source": [
        "# We will create a subsetted data frame of the time spent on the new page by each three language users \n",
        "time_spent_English = df_new[df_new['language_preferred']==\"English\"]['time_spent_on_the_page']\n",
        "time_spent_Spanish = df_new[df_new['language_preferred']=='Spanish']['time_spent_on_the_page']   \n",
        "time_spent_French = df_new[df_new['language_preferred']=='French']['time_spent_on_the_page'] "
      ],
      "metadata": {
        "id": "e3Wpxx7MucfR"
      },
      "id": "e3Wpxx7MucfR",
      "execution_count": null,
      "outputs": []
    },
    {
      "cell_type": "markdown",
      "source": [
        "There are three assumptions that need to be satisfied for the One-way ANOVA test to be used:"
      ],
      "metadata": {
        "id": "3OvGCMT4wB5o"
      },
      "id": "3OvGCMT4wB5o"
    },
    {
      "cell_type": "markdown",
      "source": [
        "![image.png](data:image/png;base64,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)"
      ],
      "metadata": {
        "id": "T89wLmDkv93p"
      },
      "id": "T89wLmDkv93p"
    },
    {
      "cell_type": "markdown",
      "source": [
        "The normality and equality of variance assumptions need to be checked. \n",
        "\n",
        "* For testing of normality, Shapiro-Wilk’s test is applied to the response variable.\n",
        "\n",
        "* For equality of variance, Levene test is applied to the response variable."
      ],
      "metadata": {
        "id": "xjsiQbUHwUNi"
      },
      "id": "xjsiQbUHwUNi"
    },
    {
      "cell_type": "markdown",
      "source": [
        "**Shapiro-Wilk’s test**\n",
        "\n",
        "We will test the null hypothesis\n",
        "\n",
        ">$H_0:$ Time spent follows a normal distribution \n",
        "\n",
        "against the alternative hypothesis\n",
        "\n",
        ">$H_a:$ Time spent does not follow a normal distribution"
      ],
      "metadata": {
        "id": "S-fBQy30-dR4"
      },
      "id": "S-fBQy30-dR4"
    },
    {
      "cell_type": "markdown",
      "source": [
        "The [`shapiro()`](https://docs.scipy.org/doc/scipy/reference/generated/scipy.stats.shapiro.html) function of Scipy will be used to compute the test statistic and p-value."
      ],
      "metadata": {
        "id": "AROolMwj_VvV"
      },
      "id": "AROolMwj_VvV"
    },
    {
      "cell_type": "code",
      "source": [
        "#Test for Normality\n",
        "# import the required function\n",
        "from scipy import stats\n",
        "\n",
        "# find the p-value\n",
        "w, p_value = stats.shapiro(df_new['time_spent_on_the_page']) \n",
        "print('The p-value is', p_value)"
      ],
      "metadata": {
        "colab": {
          "base_uri": "https://localhost:8080/"
        },
        "id": "oHyd-epd_aLk",
        "outputId": "877a57b5-557b-4d03-af66-521ce3b05ea0"
      },
      "id": "oHyd-epd_aLk",
      "execution_count": null,
      "outputs": [
        {
          "output_type": "stream",
          "name": "stdout",
          "text": [
            "The p-value is 0.8040016293525696\n"
          ]
        }
      ]
    },
    {
      "cell_type": "markdown",
      "source": [
        "Since p-value of the test is very large, we fail to reject the null hypothesis that the data follows the normal distribution."
      ],
      "metadata": {
        "id": "mK6lBPzuBHYL"
      },
      "id": "mK6lBPzuBHYL"
    },
    {
      "cell_type": "markdown",
      "source": [
        "**Levene’s test**\n",
        "\n",
        "We will test the null hypothesis\n",
        "\n",
        ">$H_0$: All the population variances are equal\n",
        "\n",
        "against the alternative hypothesis\n",
        "\n",
        ">$H_a$: At least one variance is different from the rest"
      ],
      "metadata": {
        "id": "7Hg6f0Uo-zfK"
      },
      "id": "7Hg6f0Uo-zfK"
    },
    {
      "cell_type": "markdown",
      "source": [
        "The [`levene()`](https://docs.scipy.org/doc/scipy/reference/generated/scipy.stats.shapiro.html) function of Scipy will be used to compute the test statistic and p-value."
      ],
      "metadata": {
        "id": "M5Dr3i1yBNbc"
      },
      "id": "M5Dr3i1yBNbc"
    },
    {
      "cell_type": "code",
      "source": [
        "#Test for Homogeneity of Variance\n",
        "# use levene function from scipy.stats library for this test\n",
        "# find the p-value\n",
        "statistic, p_value = stats.levene(time_spent_English,time_spent_Spanish,time_spent_French)                         \n",
        "print('The p-value is', p_value)"
      ],
      "metadata": {
        "colab": {
          "base_uri": "https://localhost:8080/"
        },
        "id": "i1QodkflFhHb",
        "outputId": "e8647135-df8b-47fd-c61d-c5c36ce4eef6"
      },
      "id": "i1QodkflFhHb",
      "execution_count": null,
      "outputs": [
        {
          "output_type": "stream",
          "name": "stdout",
          "text": [
            "The p-value is 0.46711357711340173\n"
          ]
        }
      ]
    },
    {
      "cell_type": "markdown",
      "source": [
        "Since the p-value is large, we fail to reject the null hypothesis of homogeneity of variances."
      ],
      "metadata": {
        "id": "TfHXH0zXGkDl"
      },
      "id": "TfHXH0zXGkDl"
    },
    {
      "cell_type": "markdown",
      "source": [
        "**Let's summarize whether the assumptions are satisfied or not**\n",
        "\n",
        "* The populations are normally distributed - Yes, the normality assumption is verified using the Shapiro-Wilk’s test.\n",
        "* Samples are independent simple random samples - Yes, we are informed that the collected sample is a simple random sample.\n",
        "* Population variances are equal - Yes, the homogeneity of variance assumption is verified using the Levene's test."
      ],
      "metadata": {
        "id": "EeOcIUO_JEED"
      },
      "id": "EeOcIUO_JEED"
    },
    {
      "cell_type": "markdown",
      "source": [
        "### *Step 5: Calculating the p-value*"
      ],
      "metadata": {
        "id": "wHthx0_yrqnK"
      },
      "id": "wHthx0_yrqnK"
    },
    {
      "cell_type": "markdown",
      "source": [
        "- We will use the `f_oneway()` function from the `scipy.stats` library to perform a one-way ANOVA test.\n",
        "- The `f_oneway()` function takes the sample observations from the different groups and returns the test statistic and the p-value for the test. \n",
        "-The sample observations are the values of time spent on the new landing page with respect to the preferred language groups."
      ],
      "metadata": {
        "id": "GlmlDgWINJki"
      },
      "id": "GlmlDgWINJki"
    },
    {
      "cell_type": "code",
      "source": [
        "# import the required function\n",
        "from scipy.stats import f_oneway\n",
        "\n",
        "# find the p-value\n",
        "test_stat, p_value = f_oneway(time_spent_English, time_spent_French, time_spent_Spanish)\n",
        "print('The p-value is ', p_value)"
      ],
      "metadata": {
        "colab": {
          "base_uri": "https://localhost:8080/"
        },
        "id": "X1TYY7_VN7iG",
        "outputId": "bba2538d-6ae9-4e84-f462-f3e3b044dd24"
      },
      "id": "X1TYY7_VN7iG",
      "execution_count": null,
      "outputs": [
        {
          "output_type": "stream",
          "name": "stdout",
          "text": [
            "The p-value is  0.43204138694325955\n"
          ]
        }
      ]
    },
    {
      "cell_type": "markdown",
      "source": [
        "### *Step 6: Comparing the p-value with  α*"
      ],
      "metadata": {
        "id": "AyAFhL8Brv-_"
      },
      "id": "AyAFhL8Brv-_"
    },
    {
      "cell_type": "code",
      "source": [
        "# print the conclusion based on p-value\n",
        "if p_value < 0.05:\n",
        "    print(f'As the p-value {p_value} is less than the level of significance, we reject the null hypothesis.')\n",
        "else:\n",
        "    print(f'As the p-value {p_value} is greater than the level of significance, we fail to reject the null hypothesis.')"
      ],
      "metadata": {
        "colab": {
          "base_uri": "https://localhost:8080/"
        },
        "id": "74hKEZzpOLB0",
        "outputId": "d3b2edc9-5312-44a4-bd82-adfff4ba3f72"
      },
      "id": "74hKEZzpOLB0",
      "execution_count": null,
      "outputs": [
        {
          "output_type": "stream",
          "name": "stdout",
          "text": [
            "As the p-value 0.43204138694325955 is greater than the level of significance, we fail to reject the null hypothesis.\n"
          ]
        }
      ]
    },
    {
      "cell_type": "markdown",
      "source": [
        "### Step 7:  Drawing inference"
      ],
      "metadata": {
        "id": "zJQcS4xTr7on"
      },
      "id": "zJQcS4xTr7on"
    },
    {
      "cell_type": "markdown",
      "source": [
        "**Insights:**\n",
        "\n",
        "1. To test the alternative hypotheses that conversion rate depends on preferred language,we used **One-Way ANOVA** test. \n",
        "2. All the One-Way ANOVA test assumptions were satisfied.\n",
        "3. The p-value (~0.432) is greater than the level of significance ( α=0.05 .), we fail to reject the null hypothesis. Hence, we do not have enough evidence to support the claim that time spent on the new page is significantly different for the different language users.\n",
        "\n",
        "**Conclusion:** Although visual analysis observations showed the differences in the means of the time spent on the new landing page for three different users of language users, based on the statistical analysis, the mean differences are not significantly different to reject the null hypotheses."
      ],
      "metadata": {
        "id": "x9nIFm5iOjj1"
      },
      "id": "x9nIFm5iOjj1"
    },
    {
      "cell_type": "markdown",
      "metadata": {
        "id": "3acbc947"
      },
      "source": [
        "# **Conclusion and Business Recommendations**\n",
        "\n",
        "---\n",
        "\n",
        "\n"
      ],
      "id": "3acbc947"
    },
    {
      "cell_type": "markdown",
      "metadata": {
        "id": "21fb1063"
      },
      "source": [
        "We analyzed the data of a news company that has researched and created a new landing page with new outline & more relevant content shown compared to the old page. In order to test the effectiveness of the new landing page in gathering new subscribers, the Data Science team conducted an experiment by randomly selecting 100 users and dividing them equally into two groups. The existing landing page was served to the first group (control group) and the new landing page to the second group (treatment group). Data regarding the interaction of users in both groups with the two versions of the landing page was collected.\n",
        "\n",
        "With a significance level of 5% to determine the effectiveness of the new landing page in gathering new subscribers for the news portal the objective was to answer the following questions:  \n",
        "\n",
        "1. Do the users spend more time on the new landing page than on the existing landing page?\n",
        "\n",
        "2. Is the conversion rate (the proportion of users who visit the landing page and get converted) for the new page greater than the conversion rate for the old page?\n",
        "\n",
        "3. Does the converted status depend on the preferred language? \n",
        "\n",
        "4. Is the time spent on the new page the same for the different language users?"
      ],
      "id": "21fb1063"
    },
    {
      "cell_type": "markdown",
      "source": [
        "### **Conclusions:**\n",
        "1. **Do the users spend more time on the new landing page than the existing landing page?** - Statistical analysis provided enough evidence to support the claim that the users spent more time on the new landing page than the existing page.\n",
        "2. **Is the conversion rate (the proportion of users who visit the landing page and get converted) for the new page greater than the conversion rate for the old page?** - There was enough statistical evidence to say that the conversion rate (users who decided to subscribe) of the new landing page was greater than the conversion rate of the existing landing page users.\n",
        "\n",
        "3. **Does the converted status depend on the preferred language?** - The outcomes of the statistical analysis of the data did not find a strong evidence to say that conversion status was connected to the users' preferred language. We can conclude that the converted status does not depend on the preferred language.\n",
        "4. **Is the time spent on the new page the same for the different language users?** - The differences of time spent on the new page was not statistically significant among different language users. Hence, we can say that the time spent on the new page is more or less the same for the different language users."
      ],
      "metadata": {
        "id": "jVWyihEEVQms"
      },
      "id": "jVWyihEEVQms"
    },
    {
      "cell_type": "markdown",
      "source": [
        "### **Business Recommendations:**\n",
        "\n",
        " - The new landing page was effective. Since it was evident that the users of the e-news spend more time on the new landing page and also there were more converted statuses among the users of the new landing page, it is recommended that the company switched to the new landing page for all users.\n",
        " - There are balanced number of users in all language groups, and all three groups are inpendent in regards to their converted rates and time spent on the landing page. It is recommended to keep the language options to avoid losing customers, and maybe adding new popular languages to gain more subscribed customers in the future.\n",
        " "
      ],
      "metadata": {
        "id": "qIHpS-7wfYBe"
      },
      "id": "qIHpS-7wfYBe"
    },
    {
      "cell_type": "code",
      "source": [
        "%%shell\n",
        "jupyter nbconvert --to html ///////content/Full_Code_Project_2_MO.ipynb"
      ],
      "metadata": {
        "colab": {
          "base_uri": "https://localhost:8080/"
        },
        "id": "540KHBdLpLa4",
        "outputId": "e24c3229-0b65-48ac-b639-a804930aff0d"
      },
      "id": "540KHBdLpLa4",
      "execution_count": null,
      "outputs": [
        {
          "output_type": "stream",
          "name": "stdout",
          "text": [
            "[NbConvertApp] Converting notebook ///////content/Full_Code_Project_2_MO.ipynb to html\n",
            "[NbConvertApp] Writing 1006930 bytes to ///////content/Full_Code_Project_2_MO.html\n"
          ]
        },
        {
          "output_type": "execute_result",
          "data": {
            "text/plain": [
              ""
            ]
          },
          "metadata": {},
          "execution_count": 1
        }
      ]
    },
    {
      "cell_type": "markdown",
      "source": [
        "___"
      ],
      "metadata": {
        "id": "U0dAd4i0iCHo"
      },
      "id": "U0dAd4i0iCHo"
    }
  ]
}